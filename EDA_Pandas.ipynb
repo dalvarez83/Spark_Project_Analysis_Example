{
 "cells": [
  {
   "cell_type": "markdown",
   "metadata": {},
   "source": [
    "# w261 Final Project EDA"
   ]
  },
  {
   "cell_type": "markdown",
   "metadata": {},
   "source": [
    "#### Description:\n",
    "\n",
    "This notebook shows the EDA performed for the w261 final project. This EDA started with taking a small random sample of the raw data and performing exploratory analysis with pandas packages."
   ]
  },
  {
   "cell_type": "markdown",
   "metadata": {},
   "source": [
    "#### Objectives for final project:\n",
    "Determine 2-3 relevant EDA tasks that will help you make decisions about how you implement the algorithm to be scalable. Discuss any challenges that you anticipate based on the EDA you perform."
   ]
  },
  {
   "cell_type": "markdown",
   "metadata": {},
   "source": [
    "#### The EDA comprises the following tasks:\n",
    "- Understanding the data structure and composition of the features in the dataset.\n",
    "- Plotting the target and numerical variables to understand their distributions in order to make decisions about the type of transformations required. \n",
    "    - For instance, if numerical variables are ordinal in nature, performing appropriate bucketing of the variables or one-hot encoding to ensure each value is captured in the data for analysis.\n",
    "- Displaying the distribution of the categorical variables to understand their distributions in order to make decision about the bucketing or one-hot encoding required."
   ]
  },
  {
   "cell_type": "markdown",
   "metadata": {},
   "source": [
    "### Load libraries"
   ]
  },
  {
   "cell_type": "code",
   "execution_count": 3,
   "metadata": {
    "collapsed": true,
    "jupyter": {
     "outputs_hidden": true
    }
   },
   "outputs": [],
   "source": [
    "# General tools & operations libraries\n",
    "import re\n",
    "import ast\n",
    "import time\n",
    "import csv\n",
    "import itertools\n",
    "import math\n",
    "from statsmodels.stats.stattools import durbin_watson\n",
    "\n",
    "# Mathematical operations and dataframes libraries\n",
    "import numpy as np\n",
    "import pandas as pd\n",
    "\n",
    "# Plotting and visualization libraries\n",
    "import matplotlib.pyplot as plt\n",
    "import seaborn as sns"
   ]
  },
  {
   "cell_type": "code",
   "execution_count": 4,
   "metadata": {
    "collapsed": true,
    "jupyter": {
     "outputs_hidden": true
    }
   },
   "outputs": [],
   "source": [
    "%reload_ext autoreload\n",
    "%autoreload 2\n",
    "%matplotlib inline"
   ]
  },
  {
   "cell_type": "code",
   "execution_count": 5,
   "metadata": {
    "collapsed": true,
    "jupyter": {
     "outputs_hidden": true
    }
   },
   "outputs": [],
   "source": [
    "# store path to notebook\n",
    "PWD = !pwd\n",
    "PWD = PWD[0]"
   ]
  },
  {
   "cell_type": "markdown",
   "metadata": {},
   "source": [
    "Spark is not required for this analysis, no the following codeblock is commented out."
   ]
  },
  {
   "cell_type": "code",
   "execution_count": 2,
   "metadata": {
    "collapsed": true,
    "jupyter": {
     "outputs_hidden": true
    }
   },
   "outputs": [],
   "source": [
    "# # start Spark Session (RUN THIS CELL AS IS)\n",
    "# from pyspark.sql import SparkSession\n",
    "# app_name = \"finalproject_notebook\"\n",
    "# master = \"local[*]\"\n",
    "# spark = SparkSession\\\n",
    "#         .builder\\\n",
    "#         .appName(app_name)\\\n",
    "#         .master(master)\\\n",
    "#         .getOrCreate()\n",
    "# sc = spark.sparkContext"
   ]
  },
  {
   "cell_type": "code",
   "execution_count": 1,
   "metadata": {
    "collapsed": true,
    "jupyter": {
     "outputs_hidden": true
    }
   },
   "outputs": [],
   "source": [
    "# # Spark configuration Information (RUN THIS CELL AS IS)\n",
    "# sc.getConf().getAll()"
   ]
  },
  {
   "cell_type": "code",
   "execution_count": 7,
   "metadata": {
    "collapsed": true
   },
   "outputs": [],
   "source": [
    "# spark"
   ]
  },
  {
   "cell_type": "markdown",
   "metadata": {},
   "source": [
    "### Note about the dataset\n",
    "\n",
    "The datasets for the Kaggle Display Advertising Competition are downloaded from the Criteo Labs competition site and are hosted as a compressed `.tar` file in an `S3` bucket here:\n",
    "https://s3-eu-west-1.amazonaws.com/kaggle-display-advertising-challenge-dataset/dac.tar.gz\n",
    "\n",
    "The full raw `train.txt` dataset is 11.15GB in size and is too large to read into conventional Jupyter Notebooks to perform analysis. Moreover, as we will discuss later, there are significant dimensionality constraints that inhibit loading the entire dataset and performing conventional one-hot encoding on the entire dataset. A solution is required to analyze the data and perform an algorithm implementation at scale.\n",
    "\n",
    "Therefore, we load a random sample of the dataset representing just 0.1% of the dataset. While this represents a small portion of the entire raw dataset, we believe this gives us a representative sample that will allow us to understand the dataset's features, data structure and distributions in preparation for an analysis and predictive modeling at scale."
   ]
  },
  {
   "cell_type": "markdown",
   "metadata": {},
   "source": [
    "### Load dataset"
   ]
  },
  {
   "cell_type": "markdown",
   "metadata": {},
   "source": [
    "Full dataset to be used for analysis:\n",
    "\n",
    "http://labs.criteo.com/2014/02/kaggle-display-advertising-challenge-dataset//\n",
    "\n",
    "https://s3-eu-west-1.amazonaws.com/kaggle-display-advertising-challenge-dataset/dac.tar.gz"
   ]
  },
  {
   "cell_type": "markdown",
   "metadata": {},
   "source": [
    "Change directory"
   ]
  },
  {
   "cell_type": "code",
   "execution_count": 8,
   "metadata": {},
   "outputs": [
    {
     "name": "stdout",
     "output_type": "stream",
     "text": [
      "/Volumes/LaCie/dac\n"
     ]
    }
   ],
   "source": [
    "cd '/Volumes/LaCie/dac'"
   ]
  },
  {
   "cell_type": "code",
   "execution_count": 9,
   "metadata": {
    "collapsed": true,
    "jupyter": {
     "outputs_hidden": true
    }
   },
   "outputs": [],
   "source": [
    "# assign parameters\n",
    "!BUCKET=danielalvarez_w261projects"
   ]
  },
  {
   "cell_type": "markdown",
   "metadata": {},
   "source": [
    "The following command line snippet is shown for exposition as to how we took a 0.1% random sample. This data is 11.4MB in size. It is commented out since it was just needed to produce the toy example one time. "
   ]
  },
  {
   "cell_type": "code",
   "execution_count": 4,
   "metadata": {
    "collapsed": true,
    "jupyter": {
     "outputs_hidden": true
    }
   },
   "outputs": [],
   "source": [
    "!cat train.txt | awk 'BEGIN {srand()} !/^$/ { if (rand() <= .001) print $0}' > data/sample.txt\n",
    "#!gzip -cd data/dac.tar.gz | awk 'BEGIN {srand()} !/^$/ { if (rand() <= .001) print $0}' > data/sample.txt"
   ]
  },
  {
   "cell_type": "markdown",
   "metadata": {},
   "source": [
    "Next, we inspect the sample .`txt` data. We note that there are 46,048 lines in the dataset."
   ]
  },
  {
   "cell_type": "code",
   "execution_count": 10,
   "metadata": {},
   "outputs": [
    {
     "name": "stdout",
     "output_type": "stream",
     "text": [
      "   46048 1586737 11196195 data/sample.txt\r\n"
     ]
    }
   ],
   "source": [
    "# check number of lines, byte and characters count\n",
    "!wc data/sample.txt"
   ]
  },
  {
   "cell_type": "code",
   "execution_count": 11,
   "metadata": {},
   "outputs": [
    {
     "name": "stdout",
     "output_type": "stream",
     "text": [
      "0\t1\t2\t2\t2\t292\t2\t1\t2\t2\t1\t1\t\t2\t05db9164\t0a519c5c\tb00d1501\td16679b9\t25c83c98\t7e0ccccf\t1683df22\t0b153874\ta73ee510\t3b08e48b\t89073265\te0d76380\t8b266858\tb28479f6\tb760dcb7\t1203a270\td4bb7bd8\t2efa89c6\t\t\t73d06dde\t\t3a171ecb\taee52b6f\t\t\r\n"
     ]
    }
   ],
   "source": [
    "# inspect first line to get a sense of the overall schema\n",
    "!head -n 1 data/sample.txt"
   ]
  },
  {
   "cell_type": "markdown",
   "metadata": {},
   "source": [
    "Next, we impose a schema structure over the 40 variables. We note that:\n",
    "\n",
    "- feature in position 0 is the target label, `y`\n",
    "- feature in the 13th position is numeric (`n13`)\n",
    "- features in the 14th through 39th position are categorical"
   ]
  },
  {
   "cell_type": "code",
   "execution_count": 15,
   "metadata": {
    "collapsed": true,
    "jupyter": {
     "outputs_hidden": true
    }
   },
   "outputs": [],
   "source": [
    "# convert txt file into a csv file\n",
    "with open('data/sample.txt', 'r') as in_file:\n",
    "    stripped = (line.strip() for line in in_file)\n",
    "    lines = (line.split(\",\") for line in stripped if line)\n",
    "    with open('data/sample.csv', 'w') as out_file:\n",
    "        writer = csv.writer(out_file)\n",
    "        writer.writerow(('title', 'intro'))\n",
    "        writer.writerows(lines)"
   ]
  },
  {
   "cell_type": "code",
   "execution_count": 16,
   "metadata": {
    "collapsed": true,
    "jupyter": {
     "outputs_hidden": true
    }
   },
   "outputs": [],
   "source": [
    "# Assign parameters\n",
    "chunksize = 327433\n",
    "file = 'data/sample.csv'"
   ]
  },
  {
   "cell_type": "markdown",
   "metadata": {},
   "source": [
    "Read in dataset"
   ]
  },
  {
   "cell_type": "code",
   "execution_count": 17,
   "metadata": {
    "collapsed": true,
    "jupyter": {
     "outputs_hidden": true
    }
   },
   "outputs": [],
   "source": [
    "column_names = ['y','n1','n2','n3','n4','n5','n6',\n",
    "                'n7','n8','n9','n10','n11', 'n12', 'n13',\n",
    "                'cat14','cat15','cat16','cat17','cat18',\n",
    "                'cat19','cat20','cat21','cat22','cat23','cat24',\n",
    "                'cat25','cat26','cat27','cat28','cat29','cat30',\n",
    "                'cat31','cat32','cat33','cat34','cat35','cat36',\n",
    "                'cat37','cat38','cat39']"
   ]
  },
  {
   "cell_type": "code",
   "execution_count": 18,
   "metadata": {
    "collapsed": true,
    "jupyter": {
     "outputs_hidden": true
    }
   },
   "outputs": [],
   "source": [
    "df = pd.read_csv('data/sample.csv', sep=\"\\t\", names=column_names, chunksize=chunksize, engine='python')"
   ]
  },
  {
   "cell_type": "code",
   "execution_count": 19,
   "metadata": {},
   "outputs": [
    {
     "data": {
      "text/plain": [
       "(46049, 40)"
      ]
     },
     "execution_count": 19,
     "metadata": {},
     "output_type": "execute_result"
    }
   ],
   "source": [
    "df_sample = df.get_chunk()\n",
    "df_sample.shape"
   ]
  },
  {
   "cell_type": "markdown",
   "metadata": {},
   "source": [
    "First, we assess the data structure, data types and non-null values for each feature"
   ]
  },
  {
   "cell_type": "code",
   "execution_count": 20,
   "metadata": {},
   "outputs": [
    {
     "name": "stdout",
     "output_type": "stream",
     "text": [
      "<class 'pandas.core.frame.DataFrame'>\n",
      "RangeIndex: 46049 entries, 0 to 46048\n",
      "Data columns (total 40 columns):\n",
      "y        46049 non-null object\n",
      "n1       25374 non-null float64\n",
      "n2       46048 non-null float64\n",
      "n3       36219 non-null float64\n",
      "n4       36054 non-null float64\n",
      "n5       44940 non-null float64\n",
      "n6       35770 non-null float64\n",
      "n7       44042 non-null float64\n",
      "n8       46018 non-null float64\n",
      "n9       44042 non-null float64\n",
      "n10      25374 non-null float64\n",
      "n11      44042 non-null float64\n",
      "n12      10829 non-null float64\n",
      "n13      36054 non-null float64\n",
      "cat14    46048 non-null object\n",
      "cat15    46048 non-null object\n",
      "cat16    44475 non-null object\n",
      "cat17    44475 non-null object\n",
      "cat18    46048 non-null object\n",
      "cat19    40458 non-null object\n",
      "cat20    46048 non-null object\n",
      "cat21    46048 non-null object\n",
      "cat22    46048 non-null object\n",
      "cat23    46048 non-null object\n",
      "cat24    46048 non-null object\n",
      "cat25    44475 non-null object\n",
      "cat26    46048 non-null object\n",
      "cat27    46048 non-null object\n",
      "cat28    46048 non-null object\n",
      "cat29    44475 non-null object\n",
      "cat30    46048 non-null object\n",
      "cat31    46048 non-null object\n",
      "cat32    25768 non-null object\n",
      "cat33    25768 non-null object\n",
      "cat34    44475 non-null object\n",
      "cat35    10831 non-null object\n",
      "cat36    46048 non-null object\n",
      "cat37    44475 non-null object\n",
      "cat38    25768 non-null object\n",
      "cat39    25768 non-null object\n",
      "dtypes: float64(13), object(27)\n",
      "memory usage: 14.1+ MB\n"
     ]
    }
   ],
   "source": [
    "df_sample.info()"
   ]
  },
  {
   "cell_type": "markdown",
   "metadata": {},
   "source": [
    "Inspect top 5 rows"
   ]
  },
  {
   "cell_type": "code",
   "execution_count": 21,
   "metadata": {},
   "outputs": [
    {
     "data": {
      "text/html": [
       "<div>\n",
       "<style scoped>\n",
       "    .dataframe tbody tr th:only-of-type {\n",
       "        vertical-align: middle;\n",
       "    }\n",
       "\n",
       "    .dataframe tbody tr th {\n",
       "        vertical-align: top;\n",
       "    }\n",
       "\n",
       "    .dataframe thead th {\n",
       "        text-align: right;\n",
       "    }\n",
       "</style>\n",
       "<table border=\"1\" class=\"dataframe\">\n",
       "  <thead>\n",
       "    <tr style=\"text-align: right;\">\n",
       "      <th></th>\n",
       "      <th>y</th>\n",
       "      <th>n1</th>\n",
       "      <th>n2</th>\n",
       "      <th>n3</th>\n",
       "      <th>n4</th>\n",
       "      <th>n5</th>\n",
       "      <th>n6</th>\n",
       "      <th>n7</th>\n",
       "      <th>n8</th>\n",
       "      <th>n9</th>\n",
       "      <th>...</th>\n",
       "      <th>cat30</th>\n",
       "      <th>cat31</th>\n",
       "      <th>cat32</th>\n",
       "      <th>cat33</th>\n",
       "      <th>cat34</th>\n",
       "      <th>cat35</th>\n",
       "      <th>cat36</th>\n",
       "      <th>cat37</th>\n",
       "      <th>cat38</th>\n",
       "      <th>cat39</th>\n",
       "    </tr>\n",
       "  </thead>\n",
       "  <tbody>\n",
       "    <tr>\n",
       "      <th>0</th>\n",
       "      <td>title,intro</td>\n",
       "      <td>NaN</td>\n",
       "      <td>NaN</td>\n",
       "      <td>NaN</td>\n",
       "      <td>NaN</td>\n",
       "      <td>NaN</td>\n",
       "      <td>NaN</td>\n",
       "      <td>NaN</td>\n",
       "      <td>NaN</td>\n",
       "      <td>NaN</td>\n",
       "      <td>...</td>\n",
       "      <td>None</td>\n",
       "      <td>None</td>\n",
       "      <td>None</td>\n",
       "      <td>None</td>\n",
       "      <td>None</td>\n",
       "      <td>None</td>\n",
       "      <td>None</td>\n",
       "      <td>None</td>\n",
       "      <td>None</td>\n",
       "      <td>None</td>\n",
       "    </tr>\n",
       "    <tr>\n",
       "      <th>1</th>\n",
       "      <td>0</td>\n",
       "      <td>1.0</td>\n",
       "      <td>2.0</td>\n",
       "      <td>2.0</td>\n",
       "      <td>2.0</td>\n",
       "      <td>292.0</td>\n",
       "      <td>2.0</td>\n",
       "      <td>1.0</td>\n",
       "      <td>2.0</td>\n",
       "      <td>2.0</td>\n",
       "      <td>...</td>\n",
       "      <td>d4bb7bd8</td>\n",
       "      <td>2efa89c6</td>\n",
       "      <td>NaN</td>\n",
       "      <td>NaN</td>\n",
       "      <td>73d06dde</td>\n",
       "      <td>NaN</td>\n",
       "      <td>3a171ecb</td>\n",
       "      <td>aee52b6f</td>\n",
       "      <td>None</td>\n",
       "      <td>None</td>\n",
       "    </tr>\n",
       "    <tr>\n",
       "      <th>2</th>\n",
       "      <td>0</td>\n",
       "      <td>NaN</td>\n",
       "      <td>-1.0</td>\n",
       "      <td>86.0</td>\n",
       "      <td>1.0</td>\n",
       "      <td>6147.0</td>\n",
       "      <td>875.0</td>\n",
       "      <td>3.0</td>\n",
       "      <td>1.0</td>\n",
       "      <td>96.0</td>\n",
       "      <td>...</td>\n",
       "      <td>e5ba7672</td>\n",
       "      <td>47e4d79e</td>\n",
       "      <td>9437f62f</td>\n",
       "      <td>a458ea53</td>\n",
       "      <td>d2bc432c</td>\n",
       "      <td>NaN</td>\n",
       "      <td>bcdee96c</td>\n",
       "      <td>b0a08858</td>\n",
       "      <td>c9f3bea7</td>\n",
       "      <td>553d46e8</td>\n",
       "    </tr>\n",
       "    <tr>\n",
       "      <th>3</th>\n",
       "      <td>0</td>\n",
       "      <td>1.0</td>\n",
       "      <td>1.0</td>\n",
       "      <td>16.0</td>\n",
       "      <td>2.0</td>\n",
       "      <td>0.0</td>\n",
       "      <td>2.0</td>\n",
       "      <td>24.0</td>\n",
       "      <td>2.0</td>\n",
       "      <td>13.0</td>\n",
       "      <td>...</td>\n",
       "      <td>e5ba7672</td>\n",
       "      <td>e88ffc9d</td>\n",
       "      <td>efa3470f</td>\n",
       "      <td>b1252a9d</td>\n",
       "      <td>65229b6e</td>\n",
       "      <td>NaN</td>\n",
       "      <td>bcdee96c</td>\n",
       "      <td>3fdb382b</td>\n",
       "      <td>cb079c2d</td>\n",
       "      <td>64f08cc6</td>\n",
       "    </tr>\n",
       "    <tr>\n",
       "      <th>4</th>\n",
       "      <td>0</td>\n",
       "      <td>0.0</td>\n",
       "      <td>1.0</td>\n",
       "      <td>3.0</td>\n",
       "      <td>9.0</td>\n",
       "      <td>3195.0</td>\n",
       "      <td>57.0</td>\n",
       "      <td>3.0</td>\n",
       "      <td>35.0</td>\n",
       "      <td>120.0</td>\n",
       "      <td>...</td>\n",
       "      <td>e5ba7672</td>\n",
       "      <td>9dde83ca</td>\n",
       "      <td>NaN</td>\n",
       "      <td>NaN</td>\n",
       "      <td>831d5286</td>\n",
       "      <td>NaN</td>\n",
       "      <td>32c7478e</td>\n",
       "      <td>9e9a60e4</td>\n",
       "      <td>None</td>\n",
       "      <td>None</td>\n",
       "    </tr>\n",
       "  </tbody>\n",
       "</table>\n",
       "<p>5 rows × 40 columns</p>\n",
       "</div>"
      ],
      "text/plain": [
       "             y   n1   n2    n3   n4      n5     n6    n7    n8     n9  ...  \\\n",
       "0  title,intro  NaN  NaN   NaN  NaN     NaN    NaN   NaN   NaN    NaN  ...   \n",
       "1            0  1.0  2.0   2.0  2.0   292.0    2.0   1.0   2.0    2.0  ...   \n",
       "2            0  NaN -1.0  86.0  1.0  6147.0  875.0   3.0   1.0   96.0  ...   \n",
       "3            0  1.0  1.0  16.0  2.0     0.0    2.0  24.0   2.0   13.0  ...   \n",
       "4            0  0.0  1.0   3.0  9.0  3195.0   57.0   3.0  35.0  120.0  ...   \n",
       "\n",
       "      cat30     cat31     cat32     cat33     cat34 cat35     cat36     cat37  \\\n",
       "0      None      None      None      None      None  None      None      None   \n",
       "1  d4bb7bd8  2efa89c6       NaN       NaN  73d06dde   NaN  3a171ecb  aee52b6f   \n",
       "2  e5ba7672  47e4d79e  9437f62f  a458ea53  d2bc432c   NaN  bcdee96c  b0a08858   \n",
       "3  e5ba7672  e88ffc9d  efa3470f  b1252a9d  65229b6e   NaN  bcdee96c  3fdb382b   \n",
       "4  e5ba7672  9dde83ca       NaN       NaN  831d5286   NaN  32c7478e  9e9a60e4   \n",
       "\n",
       "      cat38     cat39  \n",
       "0      None      None  \n",
       "1      None      None  \n",
       "2  c9f3bea7  553d46e8  \n",
       "3  cb079c2d  64f08cc6  \n",
       "4      None      None  \n",
       "\n",
       "[5 rows x 40 columns]"
      ]
     },
     "execution_count": 21,
     "metadata": {},
     "output_type": "execute_result"
    }
   ],
   "source": [
    "df_sample.head()"
   ]
  },
  {
   "cell_type": "code",
   "execution_count": 22,
   "metadata": {},
   "outputs": [
    {
     "data": {
      "text/html": [
       "<div>\n",
       "<style scoped>\n",
       "    .dataframe tbody tr th:only-of-type {\n",
       "        vertical-align: middle;\n",
       "    }\n",
       "\n",
       "    .dataframe tbody tr th {\n",
       "        vertical-align: top;\n",
       "    }\n",
       "\n",
       "    .dataframe thead th {\n",
       "        text-align: right;\n",
       "    }\n",
       "</style>\n",
       "<table border=\"1\" class=\"dataframe\">\n",
       "  <thead>\n",
       "    <tr style=\"text-align: right;\">\n",
       "      <th></th>\n",
       "      <th>y</th>\n",
       "      <th>n1</th>\n",
       "      <th>n2</th>\n",
       "      <th>n3</th>\n",
       "      <th>n4</th>\n",
       "      <th>n5</th>\n",
       "      <th>n6</th>\n",
       "      <th>n7</th>\n",
       "      <th>n8</th>\n",
       "      <th>n9</th>\n",
       "      <th>...</th>\n",
       "      <th>cat30</th>\n",
       "      <th>cat31</th>\n",
       "      <th>cat32</th>\n",
       "      <th>cat33</th>\n",
       "      <th>cat34</th>\n",
       "      <th>cat35</th>\n",
       "      <th>cat36</th>\n",
       "      <th>cat37</th>\n",
       "      <th>cat38</th>\n",
       "      <th>cat39</th>\n",
       "    </tr>\n",
       "  </thead>\n",
       "  <tbody>\n",
       "    <tr>\n",
       "      <th>1</th>\n",
       "      <td>0</td>\n",
       "      <td>1.0</td>\n",
       "      <td>2.0</td>\n",
       "      <td>2.0</td>\n",
       "      <td>2.0</td>\n",
       "      <td>292.0</td>\n",
       "      <td>2.0</td>\n",
       "      <td>1.0</td>\n",
       "      <td>2.0</td>\n",
       "      <td>2.0</td>\n",
       "      <td>...</td>\n",
       "      <td>d4bb7bd8</td>\n",
       "      <td>2efa89c6</td>\n",
       "      <td>NaN</td>\n",
       "      <td>NaN</td>\n",
       "      <td>73d06dde</td>\n",
       "      <td>NaN</td>\n",
       "      <td>3a171ecb</td>\n",
       "      <td>aee52b6f</td>\n",
       "      <td>None</td>\n",
       "      <td>None</td>\n",
       "    </tr>\n",
       "    <tr>\n",
       "      <th>2</th>\n",
       "      <td>0</td>\n",
       "      <td>NaN</td>\n",
       "      <td>-1.0</td>\n",
       "      <td>86.0</td>\n",
       "      <td>1.0</td>\n",
       "      <td>6147.0</td>\n",
       "      <td>875.0</td>\n",
       "      <td>3.0</td>\n",
       "      <td>1.0</td>\n",
       "      <td>96.0</td>\n",
       "      <td>...</td>\n",
       "      <td>e5ba7672</td>\n",
       "      <td>47e4d79e</td>\n",
       "      <td>9437f62f</td>\n",
       "      <td>a458ea53</td>\n",
       "      <td>d2bc432c</td>\n",
       "      <td>NaN</td>\n",
       "      <td>bcdee96c</td>\n",
       "      <td>b0a08858</td>\n",
       "      <td>c9f3bea7</td>\n",
       "      <td>553d46e8</td>\n",
       "    </tr>\n",
       "    <tr>\n",
       "      <th>3</th>\n",
       "      <td>0</td>\n",
       "      <td>1.0</td>\n",
       "      <td>1.0</td>\n",
       "      <td>16.0</td>\n",
       "      <td>2.0</td>\n",
       "      <td>0.0</td>\n",
       "      <td>2.0</td>\n",
       "      <td>24.0</td>\n",
       "      <td>2.0</td>\n",
       "      <td>13.0</td>\n",
       "      <td>...</td>\n",
       "      <td>e5ba7672</td>\n",
       "      <td>e88ffc9d</td>\n",
       "      <td>efa3470f</td>\n",
       "      <td>b1252a9d</td>\n",
       "      <td>65229b6e</td>\n",
       "      <td>NaN</td>\n",
       "      <td>bcdee96c</td>\n",
       "      <td>3fdb382b</td>\n",
       "      <td>cb079c2d</td>\n",
       "      <td>64f08cc6</td>\n",
       "    </tr>\n",
       "    <tr>\n",
       "      <th>4</th>\n",
       "      <td>0</td>\n",
       "      <td>0.0</td>\n",
       "      <td>1.0</td>\n",
       "      <td>3.0</td>\n",
       "      <td>9.0</td>\n",
       "      <td>3195.0</td>\n",
       "      <td>57.0</td>\n",
       "      <td>3.0</td>\n",
       "      <td>35.0</td>\n",
       "      <td>120.0</td>\n",
       "      <td>...</td>\n",
       "      <td>e5ba7672</td>\n",
       "      <td>9dde83ca</td>\n",
       "      <td>NaN</td>\n",
       "      <td>NaN</td>\n",
       "      <td>831d5286</td>\n",
       "      <td>NaN</td>\n",
       "      <td>32c7478e</td>\n",
       "      <td>9e9a60e4</td>\n",
       "      <td>None</td>\n",
       "      <td>None</td>\n",
       "    </tr>\n",
       "    <tr>\n",
       "      <th>5</th>\n",
       "      <td>0</td>\n",
       "      <td>0.0</td>\n",
       "      <td>21.0</td>\n",
       "      <td>5.0</td>\n",
       "      <td>6.0</td>\n",
       "      <td>7460.0</td>\n",
       "      <td>192.0</td>\n",
       "      <td>2.0</td>\n",
       "      <td>24.0</td>\n",
       "      <td>153.0</td>\n",
       "      <td>...</td>\n",
       "      <td>07c540c4</td>\n",
       "      <td>7b49e3d2</td>\n",
       "      <td>NaN</td>\n",
       "      <td>NaN</td>\n",
       "      <td>73d06dde</td>\n",
       "      <td>NaN</td>\n",
       "      <td>3a171ecb</td>\n",
       "      <td>aee52b6f</td>\n",
       "      <td>None</td>\n",
       "      <td>None</td>\n",
       "    </tr>\n",
       "  </tbody>\n",
       "</table>\n",
       "<p>5 rows × 40 columns</p>\n",
       "</div>"
      ],
      "text/plain": [
       "   y   n1    n2    n3   n4      n5     n6    n7    n8     n9  ...     cat30  \\\n",
       "1  0  1.0   2.0   2.0  2.0   292.0    2.0   1.0   2.0    2.0  ...  d4bb7bd8   \n",
       "2  0  NaN  -1.0  86.0  1.0  6147.0  875.0   3.0   1.0   96.0  ...  e5ba7672   \n",
       "3  0  1.0   1.0  16.0  2.0     0.0    2.0  24.0   2.0   13.0  ...  e5ba7672   \n",
       "4  0  0.0   1.0   3.0  9.0  3195.0   57.0   3.0  35.0  120.0  ...  e5ba7672   \n",
       "5  0  0.0  21.0   5.0  6.0  7460.0  192.0   2.0  24.0  153.0  ...  07c540c4   \n",
       "\n",
       "      cat31     cat32     cat33     cat34 cat35     cat36     cat37     cat38  \\\n",
       "1  2efa89c6       NaN       NaN  73d06dde   NaN  3a171ecb  aee52b6f      None   \n",
       "2  47e4d79e  9437f62f  a458ea53  d2bc432c   NaN  bcdee96c  b0a08858  c9f3bea7   \n",
       "3  e88ffc9d  efa3470f  b1252a9d  65229b6e   NaN  bcdee96c  3fdb382b  cb079c2d   \n",
       "4  9dde83ca       NaN       NaN  831d5286   NaN  32c7478e  9e9a60e4      None   \n",
       "5  7b49e3d2       NaN       NaN  73d06dde   NaN  3a171ecb  aee52b6f      None   \n",
       "\n",
       "      cat39  \n",
       "1      None  \n",
       "2  553d46e8  \n",
       "3  64f08cc6  \n",
       "4      None  \n",
       "5      None  \n",
       "\n",
       "[5 rows x 40 columns]"
      ]
     },
     "execution_count": 22,
     "metadata": {},
     "output_type": "execute_result"
    }
   ],
   "source": [
    "# Drop first row\n",
    "df_sample.drop(df_sample.index[0]).head()"
   ]
  },
  {
   "cell_type": "code",
   "execution_count": 23,
   "metadata": {},
   "outputs": [
    {
     "data": {
      "text/plain": [
       "0              0.745554\n",
       "1              0.254425\n",
       "title,intro    0.000022\n",
       "Name: y, dtype: float64"
      ]
     },
     "execution_count": 23,
     "metadata": {},
     "output_type": "execute_result"
    }
   ],
   "source": [
    "# Assess percentage of label categories\n",
    "df_sample.y.value_counts(dropna=False)/len(df_sample)"
   ]
  },
  {
   "cell_type": "code",
   "execution_count": 25,
   "metadata": {},
   "outputs": [
    {
     "data": {
      "text/html": [
       "<div>\n",
       "<style scoped>\n",
       "    .dataframe tbody tr th:only-of-type {\n",
       "        vertical-align: middle;\n",
       "    }\n",
       "\n",
       "    .dataframe tbody tr th {\n",
       "        vertical-align: top;\n",
       "    }\n",
       "\n",
       "    .dataframe thead th {\n",
       "        text-align: right;\n",
       "    }\n",
       "</style>\n",
       "<table border=\"1\" class=\"dataframe\">\n",
       "  <thead>\n",
       "    <tr style=\"text-align: right;\">\n",
       "      <th></th>\n",
       "      <th>y</th>\n",
       "      <th>n1</th>\n",
       "      <th>n2</th>\n",
       "      <th>n3</th>\n",
       "      <th>n4</th>\n",
       "      <th>n5</th>\n",
       "      <th>n6</th>\n",
       "      <th>n7</th>\n",
       "      <th>n8</th>\n",
       "      <th>n9</th>\n",
       "      <th>...</th>\n",
       "      <th>cat30</th>\n",
       "      <th>cat31</th>\n",
       "      <th>cat32</th>\n",
       "      <th>cat33</th>\n",
       "      <th>cat34</th>\n",
       "      <th>cat35</th>\n",
       "      <th>cat36</th>\n",
       "      <th>cat37</th>\n",
       "      <th>cat38</th>\n",
       "      <th>cat39</th>\n",
       "    </tr>\n",
       "  </thead>\n",
       "  <tbody>\n",
       "    <tr>\n",
       "      <th>0</th>\n",
       "      <td>title,intro</td>\n",
       "      <td>NaN</td>\n",
       "      <td>NaN</td>\n",
       "      <td>NaN</td>\n",
       "      <td>NaN</td>\n",
       "      <td>NaN</td>\n",
       "      <td>NaN</td>\n",
       "      <td>NaN</td>\n",
       "      <td>NaN</td>\n",
       "      <td>NaN</td>\n",
       "      <td>...</td>\n",
       "      <td>None</td>\n",
       "      <td>None</td>\n",
       "      <td>None</td>\n",
       "      <td>None</td>\n",
       "      <td>None</td>\n",
       "      <td>None</td>\n",
       "      <td>None</td>\n",
       "      <td>None</td>\n",
       "      <td>None</td>\n",
       "      <td>None</td>\n",
       "    </tr>\n",
       "  </tbody>\n",
       "</table>\n",
       "<p>1 rows × 40 columns</p>\n",
       "</div>"
      ],
      "text/plain": [
       "             y  n1  n2  n3  n4  n5  n6  n7  n8  n9  ...  cat30  cat31  cat32  \\\n",
       "0  title,intro NaN NaN NaN NaN NaN NaN NaN NaN NaN  ...   None   None   None   \n",
       "\n",
       "   cat33 cat34 cat35 cat36 cat37 cat38 cat39  \n",
       "0   None  None  None  None  None  None  None  \n",
       "\n",
       "[1 rows x 40 columns]"
      ]
     },
     "execution_count": 25,
     "metadata": {},
     "output_type": "execute_result"
    }
   ],
   "source": [
    "# Examine row with `label` value `title,intro`\n",
    "df_sample[df_sample['y']=='title,intro']"
   ]
  },
  {
   "cell_type": "markdown",
   "metadata": {},
   "source": [
    "Row with `label` value 'title,empty' is empty, so proceed to drop the row. Drop rows with label values not equal to `0` or `1`."
   ]
  },
  {
   "cell_type": "code",
   "execution_count": 27,
   "metadata": {
    "collapsed": true
   },
   "outputs": [],
   "source": [
    "# Drop row with `label` value `title,intro`\n",
    "df_sample = df_sample[(df_sample.y == '0') | (df_sample.y == '1')]"
   ]
  },
  {
   "cell_type": "code",
   "execution_count": 34,
   "metadata": {
    "collapsed": true
   },
   "outputs": [],
   "source": [
    "#convert `label` value to an integer value\n",
    "df_sample['y'] = df_sample['y'].astype(str).astype(int)"
   ]
  },
  {
   "cell_type": "markdown",
   "metadata": {},
   "source": [
    "## Sparseness of features (null values)"
   ]
  },
  {
   "cell_type": "markdown",
   "metadata": {},
   "source": [
    "We observe the number of null values for each feature to assess sparseness."
   ]
  },
  {
   "cell_type": "code",
   "execution_count": 35,
   "metadata": {},
   "outputs": [
    {
     "name": "stdout",
     "output_type": "stream",
     "text": [
      "Feature\t| Null values\t| Null Values as a Percent of Total\n",
      "====================================================================================================\n",
      " y\t|      0\t| 0.000000\n",
      " n1\t|  20674\t| 44.896630\n",
      " n2\t|      0\t| 0.000000\n",
      " n3\t|   9829\t| 21.345118\n",
      " n4\t|   9994\t| 21.703440\n",
      " n5\t|   1108\t| 2.406185\n",
      " n6\t|  10278\t| 22.320188\n",
      " n7\t|   2006\t| 4.356324\n",
      " n8\t|     30\t| 0.065149\n",
      " n9\t|   2006\t| 4.356324\n",
      " n10\t|  20674\t| 44.896630\n",
      " n11\t|   2006\t| 4.356324\n",
      " n12\t|  35219\t| 76.483235\n",
      " n13\t|   9994\t| 21.703440\n",
      " cat14\t|      0\t| 0.000000\n",
      " cat15\t|      0\t| 0.000000\n",
      " cat16\t|   1573\t| 3.416001\n",
      " cat17\t|   1573\t| 3.416001\n",
      " cat18\t|      0\t| 0.000000\n",
      " cat19\t|   5590\t| 12.139507\n",
      " cat20\t|      0\t| 0.000000\n",
      " cat21\t|      0\t| 0.000000\n",
      " cat22\t|      0\t| 0.000000\n",
      " cat23\t|      0\t| 0.000000\n",
      " cat24\t|      0\t| 0.000000\n",
      " cat25\t|   1573\t| 3.416001\n",
      " cat26\t|      0\t| 0.000000\n",
      " cat27\t|      0\t| 0.000000\n",
      " cat28\t|      0\t| 0.000000\n",
      " cat29\t|   1573\t| 3.416001\n",
      " cat30\t|      0\t| 0.000000\n",
      " cat31\t|      0\t| 0.000000\n",
      " cat32\t|  20280\t| 44.041001\n",
      " cat33\t|  20280\t| 44.041001\n",
      " cat34\t|   1573\t| 3.416001\n",
      " cat35\t|  35217\t| 76.478892\n",
      " cat36\t|      0\t| 0.000000\n",
      " cat37\t|   1573\t| 3.416001\n",
      " cat38\t|  20280\t| 44.041001\n",
      " cat39\t|  20280\t| 44.041001\n"
     ]
    }
   ],
   "source": [
    "# Number of null values for each feature and percentage of null values for each feature\n",
    "print(\"{}\\t| {:10s}\\t| {:10s}\".format(\"Feature\",\"Null values\",\"Null Values as a Percent of Total\"))\n",
    "print(\"=\"*100)\n",
    "for col in df_sample.columns:\n",
    "    null_values = df_sample[col].isnull().sum(axis=0)\n",
    "    null_values_pct = df_sample[col].isnull().sum(axis=0)/len(df_sample) * 100\n",
    "    print(\" {}\\t| {:6d}\\t| {:6f}\".format(str(col),null_values,null_values_pct))"
   ]
  },
  {
   "cell_type": "markdown",
   "metadata": {},
   "source": [
    "We observe that there are several features with a large percentage of null values. Particularly, the features: `n1`, `n3`, `n4`, `n6`, `n10`, `n12`, `n13`, `cat32`, `cat33`, `cat35`, `cat38` and `cat39` each have over 20% of their values being null. We will have to make analytical choices about how we treat these null values."
   ]
  },
  {
   "cell_type": "markdown",
   "metadata": {},
   "source": [
    "## Imbalance in target label"
   ]
  },
  {
   "cell_type": "markdown",
   "metadata": {},
   "source": [
    "Next, we assess the label values to observe class imbalance. This may affect the behavior of tree algorithms in particular, since it imposes a bias for the majority class in each tree split."
   ]
  },
  {
   "cell_type": "code",
   "execution_count": 36,
   "metadata": {},
   "outputs": [
    {
     "data": {
      "text/plain": [
       "0    34332\n",
       "1    11716\n",
       "Name: y, dtype: int64"
      ]
     },
     "execution_count": 36,
     "metadata": {},
     "output_type": "execute_result"
    }
   ],
   "source": [
    "# Assess label categories\n",
    "df_sample.y.value_counts(dropna=False)"
   ]
  },
  {
   "cell_type": "code",
   "execution_count": 38,
   "metadata": {},
   "outputs": [
    {
     "data": {
      "text/plain": [
       "0    0.74557\n",
       "1    0.25443\n",
       "Name: y, dtype: float64"
      ]
     },
     "execution_count": 38,
     "metadata": {},
     "output_type": "execute_result"
    }
   ],
   "source": [
    "# Assess percentage of label categories\n",
    "df_sample.y.value_counts(dropna=False)/len(df_sample)"
   ]
  },
  {
   "cell_type": "code",
   "execution_count": 39,
   "metadata": {},
   "outputs": [
    {
     "name": "stderr",
     "output_type": "stream",
     "text": [
      "/anaconda/anaconda3/lib/python3.6/site-packages/seaborn/categorical.py:1460: FutureWarning: remove_na is deprecated and is a private function. Do not use.\n",
      "  stat_data = remove_na(group_data)\n"
     ]
    },
    {
     "data": {
      "image/png": "[encoded data removed]",
      "text/plain": [
       "<Figure size 432x288 with 1 Axes>"
      ]
     },
     "metadata": {},
     "output_type": "display_data"
    }
   ],
   "source": [
    "# plot distribution of label counts\n",
    "sns.set(style=\"whitegrid\")\n",
    "ax = sns.countplot(x=\"y\", data=df_sample)\n",
    "ax.set(title=\"Label counts\")\n",
    "plt.show()"
   ]
  },
  {
   "cell_type": "markdown",
   "metadata": {},
   "source": [
    "We observe that `y` target values equal to 0 are dominant, corresponding to around three-quarters of the dataset labels. "
   ]
  },
  {
   "cell_type": "markdown",
   "metadata": {},
   "source": [
    "## EDA - Mean and median values with respect to target label categories"
   ]
  },
  {
   "cell_type": "markdown",
   "metadata": {},
   "source": [
    "Here, we explore mean values of numeric variables with respect to label target categories. This is important for creating recursive partitions of regions into homogeneous zones in tree-based algorithms."
   ]
  },
  {
   "cell_type": "code",
   "execution_count": 40,
   "metadata": {},
   "outputs": [
    {
     "data": {
      "text/html": [
       "<div>\n",
       "<style scoped>\n",
       "    .dataframe tbody tr th:only-of-type {\n",
       "        vertical-align: middle;\n",
       "    }\n",
       "\n",
       "    .dataframe tbody tr th {\n",
       "        vertical-align: top;\n",
       "    }\n",
       "\n",
       "    .dataframe thead th {\n",
       "        text-align: right;\n",
       "    }\n",
       "</style>\n",
       "<table border=\"1\" class=\"dataframe\">\n",
       "  <thead>\n",
       "    <tr style=\"text-align: right;\">\n",
       "      <th></th>\n",
       "      <th>n1</th>\n",
       "      <th>n2</th>\n",
       "      <th>n3</th>\n",
       "      <th>n4</th>\n",
       "      <th>n5</th>\n",
       "      <th>n6</th>\n",
       "      <th>n7</th>\n",
       "      <th>n8</th>\n",
       "      <th>n9</th>\n",
       "      <th>n10</th>\n",
       "      <th>n11</th>\n",
       "      <th>n12</th>\n",
       "      <th>n13</th>\n",
       "    </tr>\n",
       "    <tr>\n",
       "      <th>y</th>\n",
       "      <th></th>\n",
       "      <th></th>\n",
       "      <th></th>\n",
       "      <th></th>\n",
       "      <th></th>\n",
       "      <th></th>\n",
       "      <th></th>\n",
       "      <th></th>\n",
       "      <th></th>\n",
       "      <th></th>\n",
       "      <th></th>\n",
       "      <th></th>\n",
       "      <th></th>\n",
       "    </tr>\n",
       "  </thead>\n",
       "  <tbody>\n",
       "    <tr>\n",
       "      <th>0</th>\n",
       "      <td>2.890596</td>\n",
       "      <td>94.917977</td>\n",
       "      <td>21.962752</td>\n",
       "      <td>7.587890</td>\n",
       "      <td>22193.431860</td>\n",
       "      <td>137.943265</td>\n",
       "      <td>12.421027</td>\n",
       "      <td>12.756712</td>\n",
       "      <td>102.552015</td>\n",
       "      <td>0.538505</td>\n",
       "      <td>2.216218</td>\n",
       "      <td>0.617135</td>\n",
       "      <td>8.978133</td>\n",
       "    </tr>\n",
       "    <tr>\n",
       "      <th>1</th>\n",
       "      <td>4.853875</td>\n",
       "      <td>136.881188</td>\n",
       "      <td>27.669818</td>\n",
       "      <td>6.604589</td>\n",
       "      <td>9251.656253</td>\n",
       "      <td>64.945327</td>\n",
       "      <td>26.966072</td>\n",
       "      <td>11.939042</td>\n",
       "      <td>117.708464</td>\n",
       "      <td>0.804193</td>\n",
       "      <td>4.204704</td>\n",
       "      <td>1.765704</td>\n",
       "      <td>6.037941</td>\n",
       "    </tr>\n",
       "  </tbody>\n",
       "</table>\n",
       "</div>"
      ],
      "text/plain": [
       "         n1          n2         n3        n4            n5          n6  \\\n",
       "y                                                                        \n",
       "0  2.890596   94.917977  21.962752  7.587890  22193.431860  137.943265   \n",
       "1  4.853875  136.881188  27.669818  6.604589   9251.656253   64.945327   \n",
       "\n",
       "          n7         n8          n9       n10       n11       n12       n13  \n",
       "y                                                                            \n",
       "0  12.421027  12.756712  102.552015  0.538505  2.216218  0.617135  8.978133  \n",
       "1  26.966072  11.939042  117.708464  0.804193  4.204704  1.765704  6.037941  "
      ]
     },
     "execution_count": 40,
     "metadata": {},
     "output_type": "execute_result"
    }
   ],
   "source": [
    "df_sample.groupby(df_sample.y)['n1', 'n2', 'n3', 'n4', 'n5', 'n6', 'n7', 'n8', 'n9', 'n10',\n",
    "                               'n11', 'n12', 'n13'].mean()"
   ]
  },
  {
   "cell_type": "markdown",
   "metadata": {},
   "source": [
    "Explore median values of numeric variables with respect to label target categories. This may allow us to more evenly split the numeric variables."
   ]
  },
  {
   "cell_type": "code",
   "execution_count": 41,
   "metadata": {},
   "outputs": [
    {
     "data": {
      "text/html": [
       "<div>\n",
       "<style scoped>\n",
       "    .dataframe tbody tr th:only-of-type {\n",
       "        vertical-align: middle;\n",
       "    }\n",
       "\n",
       "    .dataframe tbody tr th {\n",
       "        vertical-align: top;\n",
       "    }\n",
       "\n",
       "    .dataframe thead th {\n",
       "        text-align: right;\n",
       "    }\n",
       "</style>\n",
       "<table border=\"1\" class=\"dataframe\">\n",
       "  <thead>\n",
       "    <tr style=\"text-align: right;\">\n",
       "      <th></th>\n",
       "      <th>n1</th>\n",
       "      <th>n2</th>\n",
       "      <th>n3</th>\n",
       "      <th>n4</th>\n",
       "      <th>n5</th>\n",
       "      <th>n6</th>\n",
       "      <th>n7</th>\n",
       "      <th>n8</th>\n",
       "      <th>n9</th>\n",
       "      <th>n10</th>\n",
       "      <th>n11</th>\n",
       "      <th>n12</th>\n",
       "      <th>n13</th>\n",
       "    </tr>\n",
       "    <tr>\n",
       "      <th>y</th>\n",
       "      <th></th>\n",
       "      <th></th>\n",
       "      <th></th>\n",
       "      <th></th>\n",
       "      <th></th>\n",
       "      <th></th>\n",
       "      <th></th>\n",
       "      <th></th>\n",
       "      <th></th>\n",
       "      <th></th>\n",
       "      <th></th>\n",
       "      <th></th>\n",
       "      <th></th>\n",
       "    </tr>\n",
       "  </thead>\n",
       "  <tbody>\n",
       "    <tr>\n",
       "      <th>0</th>\n",
       "      <td>1.0</td>\n",
       "      <td>3.0</td>\n",
       "      <td>7.0</td>\n",
       "      <td>4.0</td>\n",
       "      <td>3208.0</td>\n",
       "      <td>41.0</td>\n",
       "      <td>2.0</td>\n",
       "      <td>8.0</td>\n",
       "      <td>38.0</td>\n",
       "      <td>0.0</td>\n",
       "      <td>1.0</td>\n",
       "      <td>0.0</td>\n",
       "      <td>5.0</td>\n",
       "    </tr>\n",
       "    <tr>\n",
       "      <th>1</th>\n",
       "      <td>2.0</td>\n",
       "      <td>3.0</td>\n",
       "      <td>5.0</td>\n",
       "      <td>4.0</td>\n",
       "      <td>1342.0</td>\n",
       "      <td>14.0</td>\n",
       "      <td>6.0</td>\n",
       "      <td>7.0</td>\n",
       "      <td>38.0</td>\n",
       "      <td>1.0</td>\n",
       "      <td>2.0</td>\n",
       "      <td>0.0</td>\n",
       "      <td>3.0</td>\n",
       "    </tr>\n",
       "  </tbody>\n",
       "</table>\n",
       "</div>"
      ],
      "text/plain": [
       "    n1   n2   n3   n4      n5    n6   n7   n8    n9  n10  n11  n12  n13\n",
       "y                                                                      \n",
       "0  1.0  3.0  7.0  4.0  3208.0  41.0  2.0  8.0  38.0  0.0  1.0  0.0  5.0\n",
       "1  2.0  3.0  5.0  4.0  1342.0  14.0  6.0  7.0  38.0  1.0  2.0  0.0  3.0"
      ]
     },
     "execution_count": 41,
     "metadata": {},
     "output_type": "execute_result"
    }
   ],
   "source": [
    "df_sample.groupby(df_sample.y)['n1', 'n2', 'n3', 'n4', 'n5', 'n6', 'n7', 'n8', 'n9', 'n10',\n",
    "                               'n11', 'n12', 'n13'].median()"
   ]
  },
  {
   "cell_type": "markdown",
   "metadata": {},
   "source": [
    "## Correlation Heat Map of Numeric Variables"
   ]
  },
  {
   "cell_type": "markdown",
   "metadata": {},
   "source": [
    "Correlation heat map of the numeric variables allows us to visualize whether there are non-orthogonal variables and whether we can reduce the dimensionality of our data in the modeling analysis."
   ]
  },
  {
   "cell_type": "code",
   "execution_count": 42,
   "metadata": {},
   "outputs": [
    {
     "data": {
      "image/png": "[encoded data removed]",
      "text/plain": [
       "<Figure size 864x864 with 2 Axes>"
      ]
     },
     "metadata": {},
     "output_type": "display_data"
    }
   ],
   "source": [
    "df_integers = df_sample.iloc[:,1:14]\n",
    "\n",
    "var_corr = df_integers.corr()\n",
    "var_corr = var_corr.round(3)\n",
    "# plot the heatmap and annotation on it\n",
    "fig, ax = plt.subplots(figsize=(12,12))         # Sample figsize\n",
    "sns.heatmap(var_corr, xticklabels=var_corr.columns, yticklabels=var_corr.columns, annot=True)\n",
    "\n",
    "# Fix axes\n",
    "b, t = plt.ylim() # discover the values for bottom and top\n",
    "b += 0.5 # Add 0.5 to the bottom\n",
    "t -= 0.5 # Subtract 0.5 from the top\n",
    "plt.ylim(b, t) # update the ylim(bottom, top) values\n",
    "plt.show()"
   ]
  },
  {
   "cell_type": "markdown",
   "metadata": {},
   "source": [
    "The most positively correlated feature pairs from this sample are:\n",
    "- `n7` and `n11` (_p_ = .74 in this sample);\n",
    "- `n4` and `n13` (_p_ = .6 in this sample);\n",
    "- `n4` and `n8` (_p_ = .53 in this sample);\n",
    "- `n7` and `n1` (_p_ = .4 in this sample);\n",
    "- `n10` and `n1` (_p_ = .4 in this sample);\n",
    "\n",
    "The most negatively correlated feature pairs from this sample are:\n",
    "- `n5` and `n10` (_p_ = -.34 in this sample);\n",
    "- `n6` and `n10` (_p_ = -.28 in this sample)"
   ]
  },
  {
   "cell_type": "markdown",
   "metadata": {},
   "source": [
    "Following this correlation analysis, since we did not consider these features to be strongly correlated, we were not concerned with effects of multicollinearity and chose to keep these features for the modeling implementation."
   ]
  },
  {
   "cell_type": "markdown",
   "metadata": {},
   "source": [
    "Considering binning the integer variables to find the best split. Plot the histograms of each variable and see if equal-width lengths can be extracted. After, can be treated as an ordered categorical attribute. "
   ]
  },
  {
   "cell_type": "code",
   "execution_count": 43,
   "metadata": {},
   "outputs": [
    {
     "name": "stdout",
     "output_type": "stream",
     "text": [
      "n1\n",
      "[  0.   36.3  72.6 108.9 145.2 181.5 217.8 254.1 290.4 326.7 363. ]\n"
     ]
    },
    {
     "data": {
      "image/png": "[encoded data removed]",
      "text/plain": [
       "<Figure size 432x288 with 1 Axes>"
      ]
     },
     "metadata": {},
     "output_type": "display_data"
    },
    {
     "name": "stdout",
     "output_type": "stream",
     "text": [
      "n2\n",
      "[-2.00000e+00  1.43330e+03  2.86860e+03  4.30390e+03  5.73920e+03\n",
      "  7.17450e+03  8.60980e+03  1.00451e+04  1.14804e+04  1.29157e+04\n",
      "  1.43510e+04]\n"
     ]
    },
    {
     "data": {
      "image/png": "[encoded data removed]",
      "text/plain": [
       "<Figure size 432x288 with 1 Axes>"
      ]
     },
     "metadata": {},
     "output_type": "display_data"
    },
    {
     "name": "stdout",
     "output_type": "stream",
     "text": [
      "n3\n",
      "[    0.   3724.3  7448.6 11172.9 14897.2 18621.5 22345.8 26070.1 29794.4\n",
      " 33518.7 37243. ]\n"
     ]
    },
    {
     "data": {
      "image/png": "[encoded data removed]",
      "text/plain": [
       "<Figure size 432x288 with 1 Axes>"
      ]
     },
     "metadata": {},
     "output_type": "display_data"
    },
    {
     "name": "stdout",
     "output_type": "stream",
     "text": [
      "n4\n",
      "[  0.   25.3  50.6  75.9 101.2 126.5 151.8 177.1 202.4 227.7 253. ]\n"
     ]
    },
    {
     "data": {
      "image/png": "[encoded data removed]",
      "text/plain": [
       "<Figure size 432x288 with 1 Axes>"
      ]
     },
     "metadata": {},
     "output_type": "display_data"
    },
    {
     "name": "stdout",
     "output_type": "stream",
     "text": [
      "n5\n",
      "[      0.   181315.8  362631.6  543947.4  725263.2  906579.  1087894.8\n",
      " 1269210.6 1450526.4 1631842.2 1813158. ]\n"
     ]
    },
    {
     "data": {
      "image/png": "[encoded data removed]",
      "text/plain": [
       "<Figure size 432x288 with 1 Axes>"
      ]
     },
     "metadata": {},
     "output_type": "display_data"
    },
    {
     "name": "stdout",
     "output_type": "stream",
     "text": [
      "n6\n",
      "[    0.   2158.5  4317.   6475.5  8634.  10792.5 12951.  15109.5 17268.\n",
      " 19426.5 21585. ]\n"
     ]
    },
    {
     "data": {
      "image/png": "[encoded data removed]",
      "text/plain": [
       "<Figure size 432x288 with 1 Axes>"
      ]
     },
     "metadata": {},
     "output_type": "display_data"
    },
    {
     "name": "stdout",
     "output_type": "stream",
     "text": [
      "n7\n",
      "[   0.   344.9  689.8 1034.7 1379.6 1724.5 2069.4 2414.3 2759.2 3104.1\n",
      " 3449. ]\n"
     ]
    },
    {
     "data": {
      "image/png": "[encoded data removed]",
      "text/plain": [
       "<Figure size 432x288 with 1 Axes>"
      ]
     },
     "metadata": {},
     "output_type": "display_data"
    },
    {
     "name": "stdout",
     "output_type": "stream",
     "text": [
      "n8\n",
      "[  0.   71.6 143.2 214.8 286.4 358.  429.6 501.2 572.8 644.4 716. ]\n"
     ]
    },
    {
     "data": {
      "image/png": "[encoded data removed]",
      "text/plain": [
       "<Figure size 432x288 with 1 Axes>"
      ]
     },
     "metadata": {},
     "output_type": "display_data"
    },
    {
     "name": "stdout",
     "output_type": "stream",
     "text": [
      "n9\n",
      "[   0.   916.5 1833.  2749.5 3666.  4582.5 5499.  6415.5 7332.  8248.5\n",
      " 9165. ]\n"
     ]
    },
    {
     "data": {
      "image/png": "[encoded data removed]",
      "text/plain": [
       "<Figure size 432x288 with 1 Axes>"
      ]
     },
     "metadata": {},
     "output_type": "display_data"
    },
    {
     "name": "stdout",
     "output_type": "stream",
     "text": [
      "n10\n",
      "[0.  0.8 1.6 2.4 3.2 4.  4.8 5.6 6.4 7.2 8. ]\n"
     ]
    },
    {
     "data": {
      "image/png": "[encoded data removed]",
      "text/plain": [
       "<Figure size 432x288 with 1 Axes>"
      ]
     },
     "metadata": {},
     "output_type": "display_data"
    },
    {
     "name": "stdout",
     "output_type": "stream",
     "text": [
      "n11\n",
      "[  0.   13.5  27.   40.5  54.   67.5  81.   94.5 108.  121.5 135. ]\n"
     ]
    },
    {
     "data": {
      "image/png": "[encoded data removed]",
      "text/plain": [
       "<Figure size 432x288 with 1 Axes>"
      ]
     },
     "metadata": {},
     "output_type": "display_data"
    },
    {
     "name": "stdout",
     "output_type": "stream",
     "text": [
      "n12\n",
      "[  0.  14.  28.  42.  56.  70.  84.  98. 112. 126. 140.]\n"
     ]
    },
    {
     "data": {
      "image/png": "[encoded data removed]",
      "text/plain": [
       "<Figure size 432x288 with 1 Axes>"
      ]
     },
     "metadata": {},
     "output_type": "display_data"
    },
    {
     "name": "stdout",
     "output_type": "stream",
     "text": [
      "n13\n",
      "[  0.  93. 186. 279. 372. 465. 558. 651. 744. 837. 930.]\n"
     ]
    },
    {
     "data": {
      "image/png": "[encoded data removed]",
      "text/plain": [
       "<Figure size 432x288 with 1 Axes>"
      ]
     },
     "metadata": {},
     "output_type": "display_data"
    }
   ],
   "source": [
    "for i in df_integers:\n",
    "    # The leftmost and rightmost bin edges\n",
    "    first_edge, last_edge = df_sample[i].min(), df_sample[i].max()\n",
    "\n",
    "    n_equal_bins = 10  # NumPy's default\n",
    "    bin_edges = np.linspace(start=first_edge, stop=last_edge, num=n_equal_bins + 1, endpoint=True)\n",
    "    print(i)\n",
    "    print(bin_edges)\n",
    "    \n",
    "    # An \"interface\" to matplotlib.axes.Axes.hist() method\n",
    "    df_sample[i].plot.hist(grid=True, bins=50, rwidth=0.9,color='#607c8e')\n",
    "    plt.grid(axis='y', alpha=0.75)\n",
    "    plt.xlabel('Value')\n",
    "    plt.ylabel('Frequency')\n",
    "    plt.title('Histogram of '+ str(i))\n",
    "    #plt.text(23, 45, r'$\\mu=15, b=3$')\n",
    "    maxfreq = df_sample[i].max()\n",
    "    # Set a clean upper y-axis limit.\n",
    "    #plt.ylim(ymax=np.ceil(maxfreq / 10) * 10 if maxfreq % 10 else maxfreq + 10)\n",
    "    plt.show()"
   ]
  },
  {
   "cell_type": "markdown",
   "metadata": {},
   "source": [
    "## Assessment of class dominance (imbalance) across features"
   ]
  },
  {
   "cell_type": "markdown",
   "metadata": {},
   "source": [
    "Next, we examine the distribution of value counts (in percentage terms) for each of the variables. "
   ]
  },
  {
   "cell_type": "code",
   "execution_count": 44,
   "metadata": {},
   "outputs": [
    {
     "name": "stdout",
     "output_type": "stream",
     "text": [
      "Top percentage value counts for variable y\n",
      "0    74.556984\n",
      "1    25.443016\n",
      "Name: y, dtype: float64\n",
      "\n",
      "Top percentage value counts for variable n1\n",
      "NaN    44.896630\n",
      "0.0    23.269197\n",
      "1.0     9.670344\n",
      "2.0     5.555073\n",
      "3.0     3.296560\n",
      "Name: n1, dtype: float64\n",
      "\n",
      "Top percentage value counts for variable n2\n",
      " 0.0    17.273280\n",
      " 1.0    15.477328\n",
      "-1.0    10.343555\n",
      " 2.0     5.850417\n",
      " 3.0     3.118485\n",
      "Name: n2, dtype: float64\n",
      "\n",
      "Top percentage value counts for variable n3\n",
      "NaN    21.345118\n",
      "1.0    12.350156\n",
      "2.0     8.595379\n",
      "3.0     6.289090\n",
      "4.0     5.255386\n",
      "Name: n3, dtype: float64\n",
      "\n",
      "Top percentage value counts for variable n4\n",
      "NaN    21.703440\n",
      "1.0    12.825747\n",
      "2.0     9.870136\n",
      "3.0     7.622481\n",
      "4.0     6.130559\n",
      "Name: n4, dtype: float64\n",
      "\n",
      "Top percentage value counts for variable n5\n",
      "NaN    2.406185\n",
      "1.0    2.269371\n",
      "0.0    1.854587\n",
      "2.0    1.587474\n",
      "4.0    1.144458\n",
      "Name: n5, dtype: float64\n",
      "\n",
      "Top percentage value counts for variable n6\n",
      "NaN    22.320188\n",
      "0.0     4.949183\n",
      "1.0     2.803596\n",
      "2.0     2.347550\n",
      "3.0     2.084781\n",
      "Name: n6, dtype: float64\n",
      "\n",
      "Top percentage value counts for variable n7\n",
      "0.0    21.494962\n",
      "1.0    12.919128\n",
      "2.0     8.656185\n",
      "3.0     5.911223\n",
      "4.0     5.114229\n",
      "Name: n7, dtype: float64\n",
      "\n",
      "Top percentage value counts for variable n8\n",
      "0.0    11.409833\n",
      "1.0     8.082870\n",
      "2.0     6.918867\n",
      "3.0     5.752693\n",
      "4.0     5.476894\n",
      "Name: n8, dtype: float64\n",
      "\n",
      "Top percentage value counts for variable n9\n",
      "NaN    4.356324\n",
      "1.0    3.722203\n",
      "0.0    3.062022\n",
      "2.0    2.840514\n",
      "3.0    2.529969\n",
      "Name: n9, dtype: float64\n",
      "\n",
      "Top percentage value counts for variable n10\n",
      "NaN    44.896630\n",
      "0.0    26.096682\n",
      "1.0    24.652536\n",
      "2.0     3.665740\n",
      "3.0     0.560285\n",
      "Name: n10, dtype: float64\n",
      "\n",
      "Top percentage value counts for variable n11\n",
      "1.0    33.367356\n",
      "0.0    22.296300\n",
      "2.0    13.946317\n",
      "3.0     7.548645\n",
      "4.0     4.384555\n",
      "Name: n11, dtype: float64\n",
      "\n",
      "Top percentage value counts for variable n12\n",
      "NaN    76.483235\n",
      "0.0    17.655490\n",
      "1.0     3.483322\n",
      "2.0     0.803509\n",
      "3.0     0.367008\n",
      "Name: n12, dtype: float64\n",
      "\n",
      "Top percentage value counts for variable n13\n",
      "NaN    21.703440\n",
      "1.0    12.460910\n",
      "2.0     9.576963\n",
      "3.0     7.225069\n",
      "4.0     5.876477\n",
      "Name: n13, dtype: float64\n",
      "\n",
      "Top percentage value counts for variable cat14\n",
      "05db9164    49.767634\n",
      "68fd1e64    16.756428\n",
      "5a9ed9b0     8.460737\n",
      "8cf07265     5.001303\n",
      "be589b51     3.372568\n",
      "Name: cat14, dtype: float64\n",
      "\n",
      "Top percentage value counts for variable cat15\n",
      "38a947a1    11.448923\n",
      "207b2d81     4.321577\n",
      "38d50e09     3.822099\n",
      "1cfdf714     3.641852\n",
      "287130e0     3.437717\n",
      "Name: cat15, dtype: float64\n",
      "\n",
      "Top percentage value counts for variable cat16\n",
      "NaN         3.416001\n",
      "d032c263    2.427901\n",
      "aa8c1539    1.059764\n",
      "9143c832    1.038047\n",
      "02cf9876    1.011987\n",
      "Name: cat16, dtype: float64\n",
      "\n",
      "Top percentage value counts for variable cat17\n",
      "c18be181    3.439889\n",
      "NaN         3.416001\n",
      "d16679b9    2.189020\n",
      "29998ed1    2.184677\n",
      "85dd697c    2.084781\n",
      "Name: cat17, dtype: float64\n",
      "\n",
      "Top percentage value counts for variable cat18\n",
      "25c83c98    66.878040\n",
      "4cf72387    15.740097\n",
      "43b19349     6.475851\n",
      "384874ce     3.363881\n",
      "30903e74     1.830698\n",
      "Name: cat18, dtype: float64\n",
      "\n",
      "Top percentage value counts for variable cat19\n",
      "7e0ccccf    39.467512\n",
      "fbad5c96    22.022672\n",
      "fe6b92e5    18.535007\n",
      "NaN         12.139507\n",
      "13718bbd     3.164090\n",
      "Name: cat19, dtype: float64\n",
      "\n",
      "Top percentage value counts for variable cat20\n",
      "1c86e0eb    1.987057\n",
      "dc7659bd    1.198749\n",
      "7195046d    0.877345\n",
      "468a0854    0.814368\n",
      "5e64ce5f    0.801338\n",
      "Name: cat20, dtype: float64\n",
      "\n",
      "Top percentage value counts for variable cat21\n",
      "0b153874    59.249044\n",
      "5b392875    16.715167\n",
      "1f89b562     7.498697\n",
      "37e4aa92     4.249913\n",
      "062b5529     2.666782\n",
      "Name: cat21, dtype: float64\n",
      "\n",
      "Top percentage value counts for variable cat22\n",
      "a73ee510    89.958304\n",
      "7cc72ec2    10.013464\n",
      "a18233ea     0.028231\n",
      "Name: cat22, dtype: float64\n",
      "\n",
      "Top percentage value counts for variable cat23\n",
      "3b08e48b    21.896716\n",
      "efea433b     1.502780\n",
      "fbbf2c95     0.783965\n",
      "fa7d0797     0.560285\n",
      "03e48276     0.475591\n",
      "Name: cat23, dtype: float64\n",
      "\n",
      "Top percentage value counts for variable cat24\n",
      "755e4a50    3.075052\n",
      "e51ddf94    2.037005\n",
      "7f8ffe57    1.485407\n",
      "4d8549da    1.296473\n",
      "8b94178b    1.150973\n",
      "Name: cat24, dtype: float64\n",
      "\n",
      "Top percentage value counts for variable cat25\n",
      "NaN         3.416001\n",
      "dfbb09fb    2.427901\n",
      "6aaba33c    2.184677\n",
      "d8c29807    1.059764\n",
      "ae1bb660    1.038047\n",
      "Name: cat25, dtype: float64\n",
      "\n",
      "Top percentage value counts for variable cat26\n",
      "5978055e    3.075052\n",
      "3516f6e6    2.280229\n",
      "46f42a63    1.648280\n",
      "025225f2    1.457175\n",
      "1aa94af3    1.335563\n",
      "Name: cat26, dtype: float64\n",
      "\n",
      "Top percentage value counts for variable cat27\n",
      "b28479f6    35.087300\n",
      "07d13a8f    34.466209\n",
      "1adce6ef    15.195014\n",
      "64c94865     4.449705\n",
      "cfef1c29     2.966470\n",
      "Name: cat27, dtype: float64\n",
      "\n",
      "Top percentage value counts for variable cat28\n",
      "2d0bb053    1.496265\n",
      "d345b1a0    1.038047\n",
      "3628a186    0.925122\n",
      "10040656    0.901233\n",
      "42b3012c    0.853457\n",
      "Name: cat28, dtype: float64\n",
      "\n",
      "Top percentage value counts for variable cat29\n",
      "NaN         3.416001\n",
      "84898b2a    2.427901\n",
      "b041b04a    2.184677\n",
      "c64d548f    1.059764\n",
      "bad5ee18    1.038047\n",
      "Name: cat29, dtype: float64\n",
      "\n",
      "Top percentage value counts for variable cat30\n",
      "e5ba7672    46.236536\n",
      "07c540c4    13.055942\n",
      "d4bb7bd8    11.685632\n",
      "3486227d     8.276147\n",
      "776ce399     5.320535\n",
      "Name: cat30, dtype: float64\n",
      "\n",
      "Top percentage value counts for variable cat31\n",
      "e88ffc9d    3.146716\n",
      "891589e7    2.716730\n",
      "2804effd    2.566887\n",
      "c21c3e4c    2.419215\n",
      "5aed7436    2.149931\n",
      "Name: cat31, dtype: float64\n",
      "\n",
      "Top percentage value counts for variable cat32\n",
      "NaN         44.041001\n",
      "21ddcdc9    34.607366\n",
      "55dd3565     1.878475\n",
      "5b885066     0.833912\n",
      "9437f62f     0.697099\n",
      "Name: cat32, dtype: float64\n",
      "\n",
      "Top percentage value counts for variable cat33\n",
      "NaN         44.041001\n",
      "b1252a9d    19.036657\n",
      "5840adea    18.817321\n",
      "a458ea53    18.105021\n",
      "Name: cat33, dtype: float64\n",
      "\n",
      "Top percentage value counts for variable cat34\n",
      "NaN         3.416001\n",
      "0014c32a    2.427901\n",
      "723b4dfd    2.184677\n",
      "5f957280    1.059764\n",
      "0429f84b    1.038047\n",
      "Name: cat34, dtype: float64\n",
      "\n",
      "Top percentage value counts for variable cat35\n",
      "NaN         76.478892\n",
      "ad3062eb    13.587995\n",
      "c9d4222a     8.165393\n",
      "78e2e389     0.766591\n",
      "8ec974f4     0.505994\n",
      "Name: cat35, dtype: float64\n",
      "\n",
      "Top percentage value counts for variable cat36\n",
      "32c7478e    44.090949\n",
      "3a171ecb    20.018242\n",
      "423fab69    12.189454\n",
      "bcdee96c     6.775539\n",
      "be7c41b4     5.594163\n",
      "Name: cat36, dtype: float64\n",
      "\n",
      "Top percentage value counts for variable cat37\n",
      "3fdb382b    5.025191\n",
      "b34f3128    4.803683\n",
      "3b183c5c    4.482279\n",
      "1793a828    4.477936\n",
      "NaN         3.416001\n",
      "Name: cat37, dtype: float64\n",
      "\n",
      "Top percentage value counts for variable cat38\n",
      "NaN         44.041001\n",
      "001f3601    14.391505\n",
      "e8b83407    10.977675\n",
      "ea9a246c     7.939541\n",
      "cb079c2d     3.976286\n",
      "Name: cat38, dtype: float64\n",
      "\n",
      "Top percentage value counts for variable cat39\n",
      "NaN         44.041001\n",
      "49d68486     3.898106\n",
      "c84c4aec     1.908878\n",
      "2fede552     1.622220\n",
      "c27f155b     1.446317\n",
      "Name: cat39, dtype: float64\n",
      "\n"
     ]
    }
   ],
   "source": [
    "# Show top value counts for each variable\n",
    "for col in df_sample.columns:\n",
    "    print(\"Top percentage value counts for variable\", col)\n",
    "    print((df_sample[col].value_counts(dropna=False)/len(df_sample) * 100).head())\n",
    "    print(\"\")"
   ]
  },
  {
   "cell_type": "markdown",
   "metadata": {},
   "source": [
    "Several variables are dominated by select few variables (where the threshold is more than 20% dominated by one value):\n",
    "- n1 is dominated by `null` values (~44% of category values);\n",
    "- n3 is dominated by `null` values (~22% of category values);\n",
    "- n4 is dominated by `null` values (~22% of category values);\n",
    "- n6 is dominated by `null` values (~23% of category values);\n",
    "- n7 is dominated by 0.0 values (~22% of category values);\n",
    "- n10 is dominated by `null` values (~44% of category values);\n",
    "- n11 is dominated by 1.0 values (~34% of category values);\n",
    "- n12 is dominated by `null` values (~77% of category values);\n",
    "- n13 is dominated by `null` values (~22% of category values);\n",
    "- cat14 is dominated by `05db9164` (~50% of category values);\n",
    "- cat18 is dominated by `25c83c98` (~67% of category values);\n",
    "- cat20 is dominated by `0b153874` (~59% of category values); \n",
    "- cat21 is dominated by `a73ee510` (~90% of category values);\n",
    "- cat30 is dominated by `e5ba7672` (~47% of category values);\n",
    "- cat32 is dominated by `null` values (~44% of category values);\n",
    "- cat33 is dominated by `null` values (~44% of category values);\n",
    "- cat35 is dominated by `null` values (~77% of category values);\n",
    "- cat36 is dominated by `32c7478e` (~44% of category values);\n",
    "- cat38 is dominated by `null` values (~44% of category values);\n",
    "- cat39 is dominated by `null` values (~44% of category values)"
   ]
  },
  {
   "cell_type": "markdown",
   "metadata": {},
   "source": [
    "We observed that there are several features that contain a high percentage of `null` values (at least 33% `null` values). Namely, the are the features `n1`, `n10`, `n12`, `cat32`, `cat33`, `cat35`, `cat38` and `cat39`. How we treated these presented a potential challenge. For the purpose of the algorithm implemented in the subsequent section, we kept the features with high percentage null values given the predictive importance these may have. "
   ]
  },
  {
   "cell_type": "markdown",
   "metadata": {
    "collapsed": true,
    "jupyter": {
     "outputs_hidden": true
    }
   },
   "source": [
    "## Assessment of under-represented values across features"
   ]
  },
  {
   "cell_type": "markdown",
   "metadata": {},
   "source": [
    "We then assess the number of distinct unique values associated with each feature in the sample dataframe. We do this in order to assess how we will perform the discretization of the categorical features and mitigate the dimensionality problem. We note that features `cat32`, `cat33`, `cat35`, `cat38` and `cat39` are particularly troublesome to produce distinct values for given the large percentage of null values."
   ]
  },
  {
   "cell_type": "code",
   "execution_count": 45,
   "metadata": {},
   "outputs": [
    {
     "name": "stdout",
     "output_type": "stream",
     "text": [
      "Feature\t| Distinct Values\t| Distinct Values as a Percent of Total\n",
      "====================================================================================================\n",
      " y\t|      2\t\t| 0.004343\n",
      " n1\t|    111\t\t| 0.241053\n",
      " n2\t|   1920\t\t| 4.169562\n",
      " n3\t|    441\t\t| 0.957696\n",
      " n4\t|     84\t\t| 0.182418\n",
      " n5\t|  15279\t\t| 33.180594\n",
      " n6\t|   1400\t\t| 3.040306\n",
      " n7\t|    491\t\t| 1.066279\n",
      " n8\t|     66\t\t| 0.143329\n",
      " n9\t|   1287\t\t| 2.794910\n",
      " n10\t|      9\t\t| 0.019545\n",
      " n11\t|     86\t\t| 0.186762\n",
      " n12\t|     64\t\t| 0.138985\n",
      " n13\t|    133\t\t| 0.288829\n",
      " cat14\t|    361\t\t| 0.783965\n",
      " cat15\t|    493\t\t| 1.070622\n",
      " cat16\t|  23414\t\t| 50.846942\n",
      " cat17\t|  14182\t\t| 30.798297\n",
      " cat18\t|    102\t\t| 0.221508\n",
      " cat19\t|     10\t\t| 0.021716\n",
      " cat20\t|   6375\t\t| 13.844249\n",
      " cat21\t|    180\t\t| 0.390896\n",
      " cat22\t|      3\t\t| 0.006515\n",
      " cat23\t|   8075\t\t| 17.536049\n",
      " cat24\t|   3407\t\t| 7.398801\n",
      " cat25\t|  21721\t\t| 47.170344\n",
      " cat26\t|   2612\t\t| 5.672342\n",
      " cat27\t|     24\t\t| 0.052120\n",
      " cat28\t|   4036\t\t| 8.764767\n",
      " cat29\t|  18585\t\t| 40.360059\n",
      " cat30\t|     10\t\t| 0.021716\n",
      " cat31\t|   2075\t\t| 4.506167\n",
      " cat34\t|  20394\t\t| 44.288568\n",
      " cat36\t|     13\t\t| 0.028231\n",
      " cat37\t|   7427\t\t| 16.128822\n"
     ]
    }
   ],
   "source": [
    "# the number of distinct features associated with each feature\n",
    "# use forward fill to account for missing values in some categorical variables\n",
    "\n",
    "\n",
    "print(\"{}\\t| {:10s}\\t| {:10s}\".format(\"Feature\",\"Distinct Values\",\"Distinct Values as a Percent of Total\"))\n",
    "print(\"=\"*100)\n",
    "for col in df_sample.columns[0:32]:\n",
    "    unique_values = len(np.unique(df_sample[col].ffill()))\n",
    "    unique_values_pct = len(np.unique(df_sample[col].ffill()))/len(df_sample) * 100\n",
    "    print(\" {}\\t| {:6d}\\t\\t| {:6f}\".format(str(col),unique_values,unique_values_pct))\n",
    "\n",
    "print(\" {}\\t| {:6d}\\t\\t| {:6f}\".format(str('cat34'),len(np.unique(df_sample['cat34'].ffill())),len(np.unique(df_sample['cat34'].ffill()))/len(df_sample)* 100)) \n",
    "print(\" {}\\t| {:6d}\\t\\t| {:6f}\".format(str('cat36'),len(np.unique(df_sample['cat36'].ffill())),len(np.unique(df_sample['cat36'].ffill()))/len(df_sample)* 100)) \n",
    "print(\" {}\\t| {:6d}\\t\\t| {:6f}\".format(str('cat37'),len(np.unique(df_sample['cat37'].ffill())),len(np.unique(df_sample['cat37'].ffill()))/len(df_sample)* 100)) "
   ]
  },
  {
   "cell_type": "markdown",
   "metadata": {},
   "source": [
    "We observe that the features `n5`, `cat16`, `cat17`, `cat20`, `cat23`, `cat25`, `cat29`, `cat34` and `cat37` are comprised of distinct values that are over 20% of total values. In other words, these features contain a large number of under-represented values. This is another potential challenge to be addressed in the algorithm implementation as it would cause high dimensionality if we were to treat each value as its own feature through non-discretionary one-hot encoding. \n",
    "\n",
    "In order to mitigate the dimensionality issue, we impose a criteria for one-hot encoding features for a certain threshold of distinct values. Following the reference paper, de Wit (2014), we attempt an approach of applying one-hot encoding to features with less than 3,000 and another approach applying one-hot encoding to features with over 10,000 distinct values. For features with over 3K+ and 10K+ unique values, we decide to create a stash variable that comprises the least represented values for each original feature."
   ]
  },
  {
   "cell_type": "markdown",
   "metadata": {},
   "source": [
    "You can also account for the number of distinct values of the dataframe series as follows. This will give you the column name and the cardinality (the number of elements of the set or number of distinct values for each feature)."
   ]
  },
  {
   "cell_type": "code",
   "execution_count": 65,
   "metadata": {},
   "outputs": [
    {
     "data": {
      "text/html": [
       "<div>\n",
       "<style scoped>\n",
       "    .dataframe tbody tr th:only-of-type {\n",
       "        vertical-align: middle;\n",
       "    }\n",
       "\n",
       "    .dataframe tbody tr th {\n",
       "        vertical-align: top;\n",
       "    }\n",
       "\n",
       "    .dataframe thead th {\n",
       "        text-align: right;\n",
       "    }\n",
       "</style>\n",
       "<table border=\"1\" class=\"dataframe\">\n",
       "  <thead>\n",
       "    <tr style=\"text-align: right;\">\n",
       "      <th></th>\n",
       "      <th>Distinct_values</th>\n",
       "      <th>Distinct_values_as_pct_of_total</th>\n",
       "    </tr>\n",
       "  </thead>\n",
       "  <tbody>\n",
       "    <tr>\n",
       "      <th>y</th>\n",
       "      <td>2</td>\n",
       "      <td>0.000043</td>\n",
       "    </tr>\n",
       "    <tr>\n",
       "      <th>n1</th>\n",
       "      <td>111</td>\n",
       "      <td>0.002411</td>\n",
       "    </tr>\n",
       "    <tr>\n",
       "      <th>n2</th>\n",
       "      <td>1920</td>\n",
       "      <td>0.041696</td>\n",
       "    </tr>\n",
       "    <tr>\n",
       "      <th>n3</th>\n",
       "      <td>441</td>\n",
       "      <td>0.009577</td>\n",
       "    </tr>\n",
       "    <tr>\n",
       "      <th>n4</th>\n",
       "      <td>84</td>\n",
       "      <td>0.001824</td>\n",
       "    </tr>\n",
       "    <tr>\n",
       "      <th>n5</th>\n",
       "      <td>15279</td>\n",
       "      <td>0.331806</td>\n",
       "    </tr>\n",
       "    <tr>\n",
       "      <th>n6</th>\n",
       "      <td>1400</td>\n",
       "      <td>0.030403</td>\n",
       "    </tr>\n",
       "    <tr>\n",
       "      <th>n7</th>\n",
       "      <td>491</td>\n",
       "      <td>0.010663</td>\n",
       "    </tr>\n",
       "    <tr>\n",
       "      <th>n8</th>\n",
       "      <td>66</td>\n",
       "      <td>0.001433</td>\n",
       "    </tr>\n",
       "    <tr>\n",
       "      <th>n9</th>\n",
       "      <td>1287</td>\n",
       "      <td>0.027949</td>\n",
       "    </tr>\n",
       "    <tr>\n",
       "      <th>n10</th>\n",
       "      <td>9</td>\n",
       "      <td>0.000195</td>\n",
       "    </tr>\n",
       "    <tr>\n",
       "      <th>n11</th>\n",
       "      <td>86</td>\n",
       "      <td>0.001868</td>\n",
       "    </tr>\n",
       "    <tr>\n",
       "      <th>n12</th>\n",
       "      <td>60</td>\n",
       "      <td>0.001303</td>\n",
       "    </tr>\n",
       "    <tr>\n",
       "      <th>n13</th>\n",
       "      <td>133</td>\n",
       "      <td>0.002888</td>\n",
       "    </tr>\n",
       "    <tr>\n",
       "      <th>cat14</th>\n",
       "      <td>361</td>\n",
       "      <td>0.007840</td>\n",
       "    </tr>\n",
       "    <tr>\n",
       "      <th>cat15</th>\n",
       "      <td>493</td>\n",
       "      <td>0.010706</td>\n",
       "    </tr>\n",
       "    <tr>\n",
       "      <th>cat16</th>\n",
       "      <td>23414</td>\n",
       "      <td>0.508469</td>\n",
       "    </tr>\n",
       "    <tr>\n",
       "      <th>cat17</th>\n",
       "      <td>14182</td>\n",
       "      <td>0.307983</td>\n",
       "    </tr>\n",
       "    <tr>\n",
       "      <th>cat18</th>\n",
       "      <td>102</td>\n",
       "      <td>0.002215</td>\n",
       "    </tr>\n",
       "    <tr>\n",
       "      <th>cat19</th>\n",
       "      <td>10</td>\n",
       "      <td>0.000217</td>\n",
       "    </tr>\n",
       "    <tr>\n",
       "      <th>cat20</th>\n",
       "      <td>6375</td>\n",
       "      <td>0.138442</td>\n",
       "    </tr>\n",
       "    <tr>\n",
       "      <th>cat21</th>\n",
       "      <td>180</td>\n",
       "      <td>0.003909</td>\n",
       "    </tr>\n",
       "    <tr>\n",
       "      <th>cat22</th>\n",
       "      <td>3</td>\n",
       "      <td>0.000065</td>\n",
       "    </tr>\n",
       "    <tr>\n",
       "      <th>cat23</th>\n",
       "      <td>8075</td>\n",
       "      <td>0.175360</td>\n",
       "    </tr>\n",
       "    <tr>\n",
       "      <th>cat24</th>\n",
       "      <td>3407</td>\n",
       "      <td>0.073988</td>\n",
       "    </tr>\n",
       "    <tr>\n",
       "      <th>cat25</th>\n",
       "      <td>21721</td>\n",
       "      <td>0.471703</td>\n",
       "    </tr>\n",
       "    <tr>\n",
       "      <th>cat26</th>\n",
       "      <td>2612</td>\n",
       "      <td>0.056723</td>\n",
       "    </tr>\n",
       "    <tr>\n",
       "      <th>cat27</th>\n",
       "      <td>24</td>\n",
       "      <td>0.000521</td>\n",
       "    </tr>\n",
       "    <tr>\n",
       "      <th>cat28</th>\n",
       "      <td>4036</td>\n",
       "      <td>0.087648</td>\n",
       "    </tr>\n",
       "    <tr>\n",
       "      <th>cat29</th>\n",
       "      <td>18585</td>\n",
       "      <td>0.403601</td>\n",
       "    </tr>\n",
       "    <tr>\n",
       "      <th>cat30</th>\n",
       "      <td>10</td>\n",
       "      <td>0.000217</td>\n",
       "    </tr>\n",
       "    <tr>\n",
       "      <th>cat31</th>\n",
       "      <td>2075</td>\n",
       "      <td>0.045062</td>\n",
       "    </tr>\n",
       "    <tr>\n",
       "      <th>cat32</th>\n",
       "      <td>985</td>\n",
       "      <td>0.021391</td>\n",
       "    </tr>\n",
       "    <tr>\n",
       "      <th>cat33</th>\n",
       "      <td>3</td>\n",
       "      <td>0.000065</td>\n",
       "    </tr>\n",
       "    <tr>\n",
       "      <th>cat34</th>\n",
       "      <td>20394</td>\n",
       "      <td>0.442886</td>\n",
       "    </tr>\n",
       "    <tr>\n",
       "      <th>cat35</th>\n",
       "      <td>9</td>\n",
       "      <td>0.000195</td>\n",
       "    </tr>\n",
       "    <tr>\n",
       "      <th>cat36</th>\n",
       "      <td>13</td>\n",
       "      <td>0.000282</td>\n",
       "    </tr>\n",
       "    <tr>\n",
       "      <th>cat37</th>\n",
       "      <td>7428</td>\n",
       "      <td>0.161310</td>\n",
       "    </tr>\n",
       "    <tr>\n",
       "      <th>cat38</th>\n",
       "      <td>50</td>\n",
       "      <td>0.001086</td>\n",
       "    </tr>\n",
       "    <tr>\n",
       "      <th>cat39</th>\n",
       "      <td>5713</td>\n",
       "      <td>0.124066</td>\n",
       "    </tr>\n",
       "  </tbody>\n",
       "</table>\n",
       "</div>"
      ],
      "text/plain": [
       "       Distinct_values  Distinct_values_as_pct_of_total\n",
       "y                    2                         0.000043\n",
       "n1                 111                         0.002411\n",
       "n2                1920                         0.041696\n",
       "n3                 441                         0.009577\n",
       "n4                  84                         0.001824\n",
       "n5               15279                         0.331806\n",
       "n6                1400                         0.030403\n",
       "n7                 491                         0.010663\n",
       "n8                  66                         0.001433\n",
       "n9                1287                         0.027949\n",
       "n10                  9                         0.000195\n",
       "n11                 86                         0.001868\n",
       "n12                 60                         0.001303\n",
       "n13                133                         0.002888\n",
       "cat14              361                         0.007840\n",
       "cat15              493                         0.010706\n",
       "cat16            23414                         0.508469\n",
       "cat17            14182                         0.307983\n",
       "cat18              102                         0.002215\n",
       "cat19               10                         0.000217\n",
       "cat20             6375                         0.138442\n",
       "cat21              180                         0.003909\n",
       "cat22                3                         0.000065\n",
       "cat23             8075                         0.175360\n",
       "cat24             3407                         0.073988\n",
       "cat25            21721                         0.471703\n",
       "cat26             2612                         0.056723\n",
       "cat27               24                         0.000521\n",
       "cat28             4036                         0.087648\n",
       "cat29            18585                         0.403601\n",
       "cat30               10                         0.000217\n",
       "cat31             2075                         0.045062\n",
       "cat32              985                         0.021391\n",
       "cat33                3                         0.000065\n",
       "cat34            20394                         0.442886\n",
       "cat35                9                         0.000195\n",
       "cat36               13                         0.000282\n",
       "cat37             7428                         0.161310\n",
       "cat38               50                         0.001086\n",
       "cat39             5713                         0.124066"
      ]
     },
     "execution_count": 65,
     "metadata": {},
     "output_type": "execute_result"
    }
   ],
   "source": [
    "# get feature and cardinality\n",
    "cardinality = df_sample.apply(pd.Series.nunique)\n",
    "cardinality_df = pd.DataFrame(cardinality)\n",
    "cardinality_df.columns = ['Distinct_values']\n",
    "cardinality_df['Distinct_values_as_pct_of_total'] = cardinality_df['Distinct_values']/len(df_sample) \n",
    "cardinality_df"
   ]
  },
  {
   "cell_type": "markdown",
   "metadata": {},
   "source": [
    "## Logistic regression implementation (on numeric variables)"
   ]
  },
  {
   "cell_type": "markdown",
   "metadata": {},
   "source": [
    "Perform naive logistic regression on numeric variables"
   ]
  },
  {
   "cell_type": "code",
   "execution_count": 46,
   "metadata": {
    "collapsed": true,
    "jupyter": {
     "outputs_hidden": true
    }
   },
   "outputs": [],
   "source": [
    "# Assign variables\n",
    "y = df_sample['y']\n",
    "X = df_integers"
   ]
  },
  {
   "cell_type": "code",
   "execution_count": 47,
   "metadata": {},
   "outputs": [
    {
     "data": {
      "text/html": [
       "<div>\n",
       "<style scoped>\n",
       "    .dataframe tbody tr th:only-of-type {\n",
       "        vertical-align: middle;\n",
       "    }\n",
       "\n",
       "    .dataframe tbody tr th {\n",
       "        vertical-align: top;\n",
       "    }\n",
       "\n",
       "    .dataframe thead th {\n",
       "        text-align: right;\n",
       "    }\n",
       "</style>\n",
       "<table border=\"1\" class=\"dataframe\">\n",
       "  <thead>\n",
       "    <tr style=\"text-align: right;\">\n",
       "      <th></th>\n",
       "      <th>n1</th>\n",
       "      <th>n2</th>\n",
       "      <th>n3</th>\n",
       "      <th>n4</th>\n",
       "      <th>n5</th>\n",
       "      <th>n6</th>\n",
       "      <th>n7</th>\n",
       "      <th>n8</th>\n",
       "      <th>n9</th>\n",
       "      <th>n10</th>\n",
       "      <th>n11</th>\n",
       "      <th>n12</th>\n",
       "      <th>n13</th>\n",
       "    </tr>\n",
       "  </thead>\n",
       "  <tbody>\n",
       "    <tr>\n",
       "      <th>1</th>\n",
       "      <td>1.0</td>\n",
       "      <td>2.0</td>\n",
       "      <td>2.0</td>\n",
       "      <td>2.0</td>\n",
       "      <td>292.0</td>\n",
       "      <td>2.0</td>\n",
       "      <td>1.0</td>\n",
       "      <td>2.0</td>\n",
       "      <td>2.0</td>\n",
       "      <td>1.0</td>\n",
       "      <td>1.0</td>\n",
       "      <td>NaN</td>\n",
       "      <td>2.0</td>\n",
       "    </tr>\n",
       "    <tr>\n",
       "      <th>2</th>\n",
       "      <td>NaN</td>\n",
       "      <td>-1.0</td>\n",
       "      <td>86.0</td>\n",
       "      <td>1.0</td>\n",
       "      <td>6147.0</td>\n",
       "      <td>875.0</td>\n",
       "      <td>3.0</td>\n",
       "      <td>1.0</td>\n",
       "      <td>96.0</td>\n",
       "      <td>NaN</td>\n",
       "      <td>1.0</td>\n",
       "      <td>NaN</td>\n",
       "      <td>1.0</td>\n",
       "    </tr>\n",
       "    <tr>\n",
       "      <th>3</th>\n",
       "      <td>1.0</td>\n",
       "      <td>1.0</td>\n",
       "      <td>16.0</td>\n",
       "      <td>2.0</td>\n",
       "      <td>0.0</td>\n",
       "      <td>2.0</td>\n",
       "      <td>24.0</td>\n",
       "      <td>2.0</td>\n",
       "      <td>13.0</td>\n",
       "      <td>1.0</td>\n",
       "      <td>6.0</td>\n",
       "      <td>NaN</td>\n",
       "      <td>2.0</td>\n",
       "    </tr>\n",
       "  </tbody>\n",
       "</table>\n",
       "</div>"
      ],
      "text/plain": [
       "    n1   n2    n3   n4      n5     n6    n7   n8    n9  n10  n11  n12  n13\n",
       "1  1.0  2.0   2.0  2.0   292.0    2.0   1.0  2.0   2.0  1.0  1.0  NaN  2.0\n",
       "2  NaN -1.0  86.0  1.0  6147.0  875.0   3.0  1.0  96.0  NaN  1.0  NaN  1.0\n",
       "3  1.0  1.0  16.0  2.0     0.0    2.0  24.0  2.0  13.0  1.0  6.0  NaN  2.0"
      ]
     },
     "execution_count": 47,
     "metadata": {},
     "output_type": "execute_result"
    }
   ],
   "source": [
    "X.head(3)"
   ]
  },
  {
   "cell_type": "code",
   "execution_count": 48,
   "metadata": {},
   "outputs": [
    {
     "name": "stderr",
     "output_type": "stream",
     "text": [
      "/anaconda/anaconda3/lib/python3.6/site-packages/sklearn/linear_model/logistic.py:432: FutureWarning: Default solver will be changed to 'lbfgs' in 0.22. Specify a solver to silence this warning.\n",
      "  FutureWarning)\n"
     ]
    },
    {
     "name": "stdout",
     "output_type": "stream",
     "text": [
      "[[-3.33092837e-03 -3.53417775e-05 -1.37208171e-05 -1.15863678e-02\n",
      "  -8.75823610e-06 -4.26960077e-03  1.40318311e-03 -1.67462019e-02\n",
      "   3.76431631e-04 -8.16314789e-04  5.76304544e-04 -5.62253456e-04\n",
      "  -1.56564765e-02]]\n"
     ]
    },
    {
     "name": "stderr",
     "output_type": "stream",
     "text": [
      "/anaconda/anaconda3/lib/python3.6/site-packages/sklearn/svm/base.py:929: ConvergenceWarning: Liblinear failed to converge, increase the number of iterations.\n",
      "  \"the number of iterations.\", ConvergenceWarning)\n"
     ]
    }
   ],
   "source": [
    "from sklearn.linear_model import LogisticRegression\n",
    "m = LogisticRegression()\n",
    "X = X.fillna(X.mean())\n",
    "m.fit(X, y)\n",
    "\n",
    "# The estimated coefficients will all be around 1:\n",
    "print(m.coef_)"
   ]
  },
  {
   "cell_type": "markdown",
   "metadata": {},
   "source": [
    "Order the features by coefficient weight contributions from naive logistic regression"
   ]
  },
  {
   "cell_type": "code",
   "execution_count": 49,
   "metadata": {},
   "outputs": [
    {
     "data": {
      "text/html": [
       "<div>\n",
       "<style scoped>\n",
       "    .dataframe tbody tr th:only-of-type {\n",
       "        vertical-align: middle;\n",
       "    }\n",
       "\n",
       "    .dataframe tbody tr th {\n",
       "        vertical-align: top;\n",
       "    }\n",
       "\n",
       "    .dataframe thead th {\n",
       "        text-align: right;\n",
       "    }\n",
       "</style>\n",
       "<table border=\"1\" class=\"dataframe\">\n",
       "  <thead>\n",
       "    <tr style=\"text-align: right;\">\n",
       "      <th></th>\n",
       "      <th>Feature</th>\n",
       "      <th>Weight</th>\n",
       "    </tr>\n",
       "  </thead>\n",
       "  <tbody>\n",
       "    <tr>\n",
       "      <th>7</th>\n",
       "      <td>n8</td>\n",
       "      <td>0.016746</td>\n",
       "    </tr>\n",
       "    <tr>\n",
       "      <th>12</th>\n",
       "      <td>n13</td>\n",
       "      <td>0.015656</td>\n",
       "    </tr>\n",
       "    <tr>\n",
       "      <th>3</th>\n",
       "      <td>n4</td>\n",
       "      <td>0.011586</td>\n",
       "    </tr>\n",
       "    <tr>\n",
       "      <th>5</th>\n",
       "      <td>n6</td>\n",
       "      <td>0.004270</td>\n",
       "    </tr>\n",
       "    <tr>\n",
       "      <th>0</th>\n",
       "      <td>n1</td>\n",
       "      <td>0.003331</td>\n",
       "    </tr>\n",
       "    <tr>\n",
       "      <th>6</th>\n",
       "      <td>n7</td>\n",
       "      <td>0.001403</td>\n",
       "    </tr>\n",
       "    <tr>\n",
       "      <th>9</th>\n",
       "      <td>n10</td>\n",
       "      <td>0.000816</td>\n",
       "    </tr>\n",
       "    <tr>\n",
       "      <th>10</th>\n",
       "      <td>n11</td>\n",
       "      <td>0.000576</td>\n",
       "    </tr>\n",
       "    <tr>\n",
       "      <th>11</th>\n",
       "      <td>n12</td>\n",
       "      <td>0.000562</td>\n",
       "    </tr>\n",
       "    <tr>\n",
       "      <th>8</th>\n",
       "      <td>n9</td>\n",
       "      <td>0.000376</td>\n",
       "    </tr>\n",
       "    <tr>\n",
       "      <th>1</th>\n",
       "      <td>n2</td>\n",
       "      <td>0.000035</td>\n",
       "    </tr>\n",
       "    <tr>\n",
       "      <th>2</th>\n",
       "      <td>n3</td>\n",
       "      <td>0.000014</td>\n",
       "    </tr>\n",
       "    <tr>\n",
       "      <th>4</th>\n",
       "      <td>n5</td>\n",
       "      <td>0.000009</td>\n",
       "    </tr>\n",
       "  </tbody>\n",
       "</table>\n",
       "</div>"
      ],
      "text/plain": [
       "   Feature    Weight\n",
       "7       n8  0.016746\n",
       "12     n13  0.015656\n",
       "3       n4  0.011586\n",
       "5       n6  0.004270\n",
       "0       n1  0.003331\n",
       "6       n7  0.001403\n",
       "9      n10  0.000816\n",
       "10     n11  0.000576\n",
       "11     n12  0.000562\n",
       "8       n9  0.000376\n",
       "1       n2  0.000035\n",
       "2       n3  0.000014\n",
       "4       n5  0.000009"
      ]
     },
     "execution_count": 49,
     "metadata": {},
     "output_type": "execute_result"
    }
   ],
   "source": [
    "abs_weights = np.abs(m.coef_)\n",
    "int_col_names = ['n1', 'n2', 'n3', 'n4', 'n5', 'n6', 'n7', 'n8', 'n9', 'n10', 'n11', 'n12', 'n13']\n",
    "weights_df = pd.DataFrame(list(zip(int_col_names, abs_weights[0])), columns =['Feature', 'Weight']) \n",
    "weights_df.sort_values('Weight', ascending=False)"
   ]
  },
  {
   "cell_type": "markdown",
   "metadata": {},
   "source": [
    "### Load files to GCP bucket and convert to RDDs for Spark analysis"
   ]
  },
  {
   "cell_type": "markdown",
   "metadata": {},
   "source": [
    "The `train.txt` and `test.txt` files were downloaded to an external hard drive and subsequently loaded into a GCP bucket. "
   ]
  },
  {
   "cell_type": "code",
   "execution_count": 106,
   "metadata": {
    "collapsed": true,
    "jupyter": {
     "outputs_hidden": true
    }
   },
   "outputs": [],
   "source": [
    "# This command streams the main data set from dropbox directly to your GCP bucket - this may take a little time (RUN THIS CELL AS IS)\n",
    "#!curl -L \"https://s3-eu-west-1.amazonaws.com/kaggle-display-advertising-challenge-dataset/dac.tar.gz\" | gsutil cp - gs://{BUCKET}/finalproject/train.txt"
   ]
  },
  {
   "cell_type": "code",
   "execution_count": 13,
   "metadata": {
    "collapsed": true,
    "jupyter": {
     "outputs_hidden": true
    }
   },
   "outputs": [],
   "source": [
    "# Do not run in the Docker container. This command puts a local file on GCP\n",
    "#!gsutil cp 'train.txt' gs://{BUCKET}/finalproject/train.txt\n",
    "#!gsutil cp 'train.txt' gs://danielalvarez_w261projects/finalproject/train.txt"
   ]
  },
  {
   "cell_type": "code",
   "execution_count": 12,
   "metadata": {
    "collapsed": true,
    "jupyter": {
     "outputs_hidden": true
    }
   },
   "outputs": [],
   "source": [
    "# Do not run in the Docker container. This command puts a local file on GCP\n",
    "#!gsutil cp 'test.txt' gs://{BUCKET}/finalproject/test.txt\n",
    "#!gsutil cp 'test.txt' gs://danielalvarez_w261projects/finalproject/test.txt"
   ]
  },
  {
   "cell_type": "code",
   "execution_count": 113,
   "metadata": {
    "collapsed": true,
    "jupyter": {
     "outputs_hidden": true
    }
   },
   "outputs": [],
   "source": [
    "# load the data into Spark RDDs for convenience of use later (RUN THIS CELL AS IS)\n",
    "# trainRDD = sc.textFile(f'gs://danielalvarez_w261projects/finalproject/train.txt')\n",
    "# testRDD = sc.textFile(f'gs://danielalvarez_w261projects/finalproject/test.txt')"
   ]
  },
  {
   "cell_type": "code",
   "execution_count": 114,
   "metadata": {
    "collapsed": true,
    "jupyter": {
     "outputs_hidden": true
    }
   },
   "outputs": [],
   "source": [
    "# print the class\n",
    "# print(type(trainRDD))\n",
    "# print(type(testRDD))"
   ]
  },
  {
   "cell_type": "code",
   "execution_count": 115,
   "metadata": {
    "collapsed": true,
    "jupyter": {
     "outputs_hidden": true
    }
   },
   "outputs": [],
   "source": [
    "# number of rows and shape of the files\n",
    "# !cat trainRDD | wc -l"
   ]
  },
  {
   "cell_type": "code",
   "execution_count": 116,
   "metadata": {
    "collapsed": true,
    "jupyter": {
     "outputs_hidden": true
    }
   },
   "outputs": [],
   "source": [
    "# convert to RDDs to DataFrames\n",
    "#DF = trainRDD.map(lambda x: (x.split('\\t')[0], ast.literal_eval(x.split('\\t')[1]))).toDF()\n",
    "# from pyspark.sql.types import Row\n",
    "\n",
    "# #here you are going to create a function\n",
    "# def f(x):\n",
    "#     d = {}\n",
    "#     for i in range(len(x)):\n",
    "#         d[str(i)] = x[i]\n",
    "#     return d\n",
    "\n",
    "# #Now populate that\n",
    "# df = trainRDD.map(lambda x: Row(**f(x))).toDF()"
   ]
  },
  {
   "cell_type": "code",
   "execution_count": null,
   "metadata": {
    "collapsed": true,
    "jupyter": {
     "outputs_hidden": true
    }
   },
   "outputs": [],
   "source": []
  }
 ],
 "metadata": {
  "kernelspec": {
   "display_name": "Python 3",
   "language": "python",
   "name": "python3"
  },
  "language_info": {
   "codemirror_mode": {
    "name": "ipython",
    "version": 3
   },
   "file_extension": ".py",
   "mimetype": "text/x-python",
   "name": "python",
   "nbconvert_exporter": "python",
   "pygments_lexer": "ipython3",
   "version": "3.6.9"
  }
 },
 "nbformat": 4,
 "nbformat_minor": 4
}
